{
 "cells": [
  {
   "cell_type": "markdown",
   "id": "a79da73a",
   "metadata": {
    "papermill": {
     "duration": 0.007193,
     "end_time": "2023-12-09T14:36:22.529016",
     "exception": false,
     "start_time": "2023-12-09T14:36:22.521823",
     "status": "completed"
    },
    "tags": []
   },
   "source": [
    "# DTC Zoomcamp Q&A Baseline"
   ]
  },
  {
   "cell_type": "markdown",
   "id": "83cfa833",
   "metadata": {},
   "source": [
    "This is a starter notebook for the [DTC Zoomcamp Q&A challenge on Kaggle](https://www.kaggle.com/competitions/dtc-zoomcamp-qa-challenge). that can help you to build the solution to submit. Created by Timur Kamaliev and [published on Kaggle](https://www.kaggle.com/code/svizor/dtc-zoomcamp-q-a-bert/notebook)\n",
    "\n",
    "To get started:\n",
    "\n",
    "* Join the competition and accept rules\n",
    "* Download your Kaggle credentials file\n",
    "* If you're running in Saturn Cloud, configure your instance to have access to access the kaggle credentials\n",
    "\n",
    "When this is done, we start by downloading the data. We need to execute the following cell only once"
   ]
  },
  {
   "cell_type": "code",
   "execution_count": 1,
   "id": "05d441c5",
   "metadata": {},
   "outputs": [],
   "source": [
    "!kaggle competitions download -c dtc-zoomcamp-qa-challenge\n",
    "!mkdir data\n",
    "!unzip dtc-zoomcamp-qa-challenge.zip -d data > /dev/null\n",
    "!rm dtc-zoomcamp-qa-challenge.zip"
   ]
  },
  {
   "cell_type": "code",
   "execution_count": 2,
   "id": "717c5eae",
   "metadata": {},
   "outputs": [
    {
     "name": "stdout",
     "output_type": "stream",
     "text": [
      "attachments\t  test_questions.csv  train_questions.csv\r\n",
      "test_answers.csv  train_answers.csv\r\n"
     ]
    }
   ],
   "source": [
    "!ls data"
   ]
  },
  {
   "cell_type": "markdown",
   "id": "74784a98",
   "metadata": {},
   "source": [
    "Now we execute the rest of the notebook"
   ]
  },
  {
   "cell_type": "code",
   "execution_count": 3,
   "id": "32000fec",
   "metadata": {
    "_cell_guid": "b1076dfc-b9ad-4769-8c92-a6c4dae69d19",
    "_uuid": "8f2839f25d086af736a60e9eeb907d3b93b6e0e5",
    "execution": {
     "iopub.execute_input": "2023-12-09T14:36:22.557235Z",
     "iopub.status.busy": "2023-12-09T14:36:22.556893Z",
     "iopub.status.idle": "2023-12-09T14:36:29.846598Z",
     "shell.execute_reply": "2023-12-09T14:36:29.845679Z"
    },
    "papermill": {
     "duration": 7.299975,
     "end_time": "2023-12-09T14:36:29.849058",
     "exception": false,
     "start_time": "2023-12-09T14:36:22.549083",
     "status": "completed"
    },
    "tags": []
   },
   "outputs": [],
   "source": [
    "import os\n",
    "import pandas as pd\n",
    "import numpy as np\n",
    "import torch\n",
    "\n",
    "from transformers import BertTokenizer, BertModel\n",
    "from sklearn.metrics.pairwise import cosine_similarity\n",
    "from sklearn.preprocessing import StandardScaler\n",
    "\n",
    "import warnings\n",
    "warnings.filterwarnings(\"ignore\")"
   ]
  },
  {
   "cell_type": "code",
   "execution_count": 4,
   "id": "ca133199",
   "metadata": {
    "execution": {
     "iopub.execute_input": "2023-12-09T14:36:29.865449Z",
     "iopub.status.busy": "2023-12-09T14:36:29.864946Z",
     "iopub.status.idle": "2023-12-09T14:36:29.934900Z",
     "shell.execute_reply": "2023-12-09T14:36:29.934017Z"
    },
    "papermill": {
     "duration": 0.08066,
     "end_time": "2023-12-09T14:36:29.937247",
     "exception": false,
     "start_time": "2023-12-09T14:36:29.856587",
     "status": "completed"
    },
    "tags": []
   },
   "outputs": [],
   "source": [
    "data_path = './data'\n",
    "train_questions_df = pd.read_csv(f'{data_path}/train_questions.csv')\n",
    "train_answers_df = pd.read_csv(f'{data_path}/train_answers.csv')\n",
    "test_questions_df = pd.read_csv(f'{data_path}/test_questions.csv')\n",
    "test_answers_df = pd.read_csv(f'{data_path}/test_answers.csv')"
   ]
  },
  {
   "cell_type": "code",
   "execution_count": 5,
   "id": "490c6df4",
   "metadata": {
    "execution": {
     "iopub.execute_input": "2023-12-09T14:36:29.953200Z",
     "iopub.status.busy": "2023-12-09T14:36:29.952568Z",
     "iopub.status.idle": "2023-12-09T14:36:29.970716Z",
     "shell.execute_reply": "2023-12-09T14:36:29.969786Z"
    },
    "papermill": {
     "duration": 0.028247,
     "end_time": "2023-12-09T14:36:29.972695",
     "exception": false,
     "start_time": "2023-12-09T14:36:29.944448",
     "status": "completed"
    },
    "tags": []
   },
   "outputs": [
    {
     "data": {
      "text/html": [
       "<div>\n",
       "<style scoped>\n",
       "    .dataframe tbody tr th:only-of-type {\n",
       "        vertical-align: middle;\n",
       "    }\n",
       "\n",
       "    .dataframe tbody tr th {\n",
       "        vertical-align: top;\n",
       "    }\n",
       "\n",
       "    .dataframe thead th {\n",
       "        text-align: right;\n",
       "    }\n",
       "</style>\n",
       "<table border=\"1\" class=\"dataframe\">\n",
       "  <thead>\n",
       "    <tr style=\"text-align: right;\">\n",
       "      <th></th>\n",
       "      <th>question_id</th>\n",
       "      <th>question</th>\n",
       "      <th>course</th>\n",
       "      <th>year</th>\n",
       "      <th>candidate_answers</th>\n",
       "      <th>answer_id</th>\n",
       "    </tr>\n",
       "  </thead>\n",
       "  <tbody>\n",
       "    <tr>\n",
       "      <th>0</th>\n",
       "      <td>79062</td>\n",
       "      <td>For categorical target set, where the distribu...</td>\n",
       "      <td>Machine Learning Zoomcamp</td>\n",
       "      <td>2021</td>\n",
       "      <td>156400,754877,105368,643810,912439</td>\n",
       "      <td>156400</td>\n",
       "    </tr>\n",
       "    <tr>\n",
       "      <th>1</th>\n",
       "      <td>468946</td>\n",
       "      <td>Is there anything that we are not allowed to u...</td>\n",
       "      <td>Machine Learning Zoomcamp</td>\n",
       "      <td>2021</td>\n",
       "      <td>641330,634887,912439,425941,642829</td>\n",
       "      <td>634887</td>\n",
       "    </tr>\n",
       "    <tr>\n",
       "      <th>2</th>\n",
       "      <td>968800</td>\n",
       "      <td>I have been catching up and have been doing ho...</td>\n",
       "      <td>Data Engineering Zoomcamp</td>\n",
       "      <td>2022</td>\n",
       "      <td>954016,167856,75919,36798,838013</td>\n",
       "      <td>954016</td>\n",
       "    </tr>\n",
       "    <tr>\n",
       "      <th>3</th>\n",
       "      <td>688404</td>\n",
       "      <td>Could you please explain what code we should l...</td>\n",
       "      <td>Data Engineering Zoomcamp</td>\n",
       "      <td>2022</td>\n",
       "      <td>198661,629898,686577,3699,141765</td>\n",
       "      <td>3699</td>\n",
       "    </tr>\n",
       "    <tr>\n",
       "      <th>4</th>\n",
       "      <td>63921</td>\n",
       "      <td>Is it just me or does the model have really ba...</td>\n",
       "      <td>Machine Learning Zoomcamp</td>\n",
       "      <td>2021</td>\n",
       "      <td>754877,604487,912439,858915,425941</td>\n",
       "      <td>858915</td>\n",
       "    </tr>\n",
       "  </tbody>\n",
       "</table>\n",
       "</div>"
      ],
      "text/plain": [
       "   question_id                                           question  \\\n",
       "0        79062  For categorical target set, where the distribu...   \n",
       "1       468946  Is there anything that we are not allowed to u...   \n",
       "2       968800  I have been catching up and have been doing ho...   \n",
       "3       688404  Could you please explain what code we should l...   \n",
       "4        63921  Is it just me or does the model have really ba...   \n",
       "\n",
       "                      course  year                   candidate_answers  \\\n",
       "0  Machine Learning Zoomcamp  2021  156400,754877,105368,643810,912439   \n",
       "1  Machine Learning Zoomcamp  2021  641330,634887,912439,425941,642829   \n",
       "2  Data Engineering Zoomcamp  2022    954016,167856,75919,36798,838013   \n",
       "3  Data Engineering Zoomcamp  2022    198661,629898,686577,3699,141765   \n",
       "4  Machine Learning Zoomcamp  2021  754877,604487,912439,858915,425941   \n",
       "\n",
       "   answer_id  \n",
       "0     156400  \n",
       "1     634887  \n",
       "2     954016  \n",
       "3       3699  \n",
       "4     858915  "
      ]
     },
     "execution_count": 5,
     "metadata": {},
     "output_type": "execute_result"
    }
   ],
   "source": [
    "train_questions_df.head()"
   ]
  },
  {
   "cell_type": "code",
   "execution_count": 6,
   "id": "8cbb3270",
   "metadata": {
    "execution": {
     "iopub.execute_input": "2023-12-09T14:36:29.988822Z",
     "iopub.status.busy": "2023-12-09T14:36:29.988259Z",
     "iopub.status.idle": "2023-12-09T14:36:30.007630Z",
     "shell.execute_reply": "2023-12-09T14:36:30.006888Z"
    },
    "papermill": {
     "duration": 0.029216,
     "end_time": "2023-12-09T14:36:30.009473",
     "exception": false,
     "start_time": "2023-12-09T14:36:29.980257",
     "status": "completed"
    },
    "tags": []
   },
   "outputs": [],
   "source": [
    "# Let's marge the train questions and answers in one dataframe\n",
    "train_merged_df = pd.merge(\n",
    "    train_questions_df, train_answers_df, on='answer_id', how='inner', suffixes=('_question', '_answer')\n",
    ")"
   ]
  },
  {
   "cell_type": "code",
   "execution_count": 7,
   "id": "bbc6a99b",
   "metadata": {
    "execution": {
     "iopub.execute_input": "2023-12-09T14:36:30.024508Z",
     "iopub.status.busy": "2023-12-09T14:36:30.024219Z",
     "iopub.status.idle": "2023-12-09T14:36:30.035922Z",
     "shell.execute_reply": "2023-12-09T14:36:30.035080Z"
    },
    "papermill": {
     "duration": 0.021483,
     "end_time": "2023-12-09T14:36:30.037976",
     "exception": false,
     "start_time": "2023-12-09T14:36:30.016493",
     "status": "completed"
    },
    "tags": []
   },
   "outputs": [
    {
     "data": {
      "text/plain": [
       "(397, 10)"
      ]
     },
     "execution_count": 7,
     "metadata": {},
     "output_type": "execute_result"
    }
   ],
   "source": [
    "# Drop duplicates\n",
    "train_merged_df = train_merged_df.drop_duplicates()\n",
    "train_merged_df.shape"
   ]
  },
  {
   "cell_type": "code",
   "execution_count": 8,
   "id": "97b4ead5",
   "metadata": {
    "execution": {
     "iopub.execute_input": "2023-12-09T14:36:30.054759Z",
     "iopub.status.busy": "2023-12-09T14:36:30.054469Z",
     "iopub.status.idle": "2023-12-09T14:36:30.067711Z",
     "shell.execute_reply": "2023-12-09T14:36:30.066787Z"
    },
    "papermill": {
     "duration": 0.023896,
     "end_time": "2023-12-09T14:36:30.069592",
     "exception": false,
     "start_time": "2023-12-09T14:36:30.045696",
     "status": "completed"
    },
    "tags": []
   },
   "outputs": [
    {
     "data": {
      "text/html": [
       "<div>\n",
       "<style scoped>\n",
       "    .dataframe tbody tr th:only-of-type {\n",
       "        vertical-align: middle;\n",
       "    }\n",
       "\n",
       "    .dataframe tbody tr th {\n",
       "        vertical-align: top;\n",
       "    }\n",
       "\n",
       "    .dataframe thead th {\n",
       "        text-align: right;\n",
       "    }\n",
       "</style>\n",
       "<table border=\"1\" class=\"dataframe\">\n",
       "  <thead>\n",
       "    <tr style=\"text-align: right;\">\n",
       "      <th></th>\n",
       "      <th>question_id</th>\n",
       "      <th>question</th>\n",
       "      <th>course_question</th>\n",
       "      <th>year_question</th>\n",
       "      <th>candidate_answers</th>\n",
       "      <th>answer_id</th>\n",
       "      <th>answer</th>\n",
       "      <th>course_answer</th>\n",
       "      <th>year_answer</th>\n",
       "      <th>attachments_files</th>\n",
       "    </tr>\n",
       "  </thead>\n",
       "  <tbody>\n",
       "    <tr>\n",
       "      <th>0</th>\n",
       "      <td>79062</td>\n",
       "      <td>For categorical target set, where the distribu...</td>\n",
       "      <td>Machine Learning Zoomcamp</td>\n",
       "      <td>2021</td>\n",
       "      <td>156400,754877,105368,643810,912439</td>\n",
       "      <td>156400</td>\n",
       "      <td>Alexey\\nShould we use something non-standard t...</td>\n",
       "      <td>Machine Learning Zoomcamp</td>\n",
       "      <td>2021</td>\n",
       "      <td>NaN</td>\n",
       "    </tr>\n",
       "    <tr>\n",
       "      <th>1</th>\n",
       "      <td>468946</td>\n",
       "      <td>Is there anything that we are not allowed to u...</td>\n",
       "      <td>Machine Learning Zoomcamp</td>\n",
       "      <td>2021</td>\n",
       "      <td>641330,634887,912439,425941,642829</td>\n",
       "      <td>634887</td>\n",
       "      <td>No, I don't think there is anything you cannot...</td>\n",
       "      <td>Machine Learning Zoomcamp</td>\n",
       "      <td>2021</td>\n",
       "      <td>NaN</td>\n",
       "    </tr>\n",
       "    <tr>\n",
       "      <th>2</th>\n",
       "      <td>968800</td>\n",
       "      <td>I have been catching up and have been doing ho...</td>\n",
       "      <td>Data Engineering Zoomcamp</td>\n",
       "      <td>2022</td>\n",
       "      <td>954016,167856,75919,36798,838013</td>\n",
       "      <td>954016</td>\n",
       "      <td>Alexey\\nYes, you will be. You can submit the p...</td>\n",
       "      <td>Data Engineering Zoomcamp</td>\n",
       "      <td>2022</td>\n",
       "      <td>NaN</td>\n",
       "    </tr>\n",
       "    <tr>\n",
       "      <th>3</th>\n",
       "      <td>688404</td>\n",
       "      <td>Could you please explain what code we should l...</td>\n",
       "      <td>Data Engineering Zoomcamp</td>\n",
       "      <td>2022</td>\n",
       "      <td>198661,629898,686577,3699,141765</td>\n",
       "      <td>3699</td>\n",
       "      <td>Alexey\\nI think the question refers to the hom...</td>\n",
       "      <td>Data Engineering Zoomcamp</td>\n",
       "      <td>2022</td>\n",
       "      <td>NaN</td>\n",
       "    </tr>\n",
       "    <tr>\n",
       "      <th>4</th>\n",
       "      <td>63921</td>\n",
       "      <td>Is it just me or does the model have really ba...</td>\n",
       "      <td>Machine Learning Zoomcamp</td>\n",
       "      <td>2021</td>\n",
       "      <td>754877,604487,912439,858915,425941</td>\n",
       "      <td>858915</td>\n",
       "      <td>Dmitry\\nIt's fine, because this is the showcas...</td>\n",
       "      <td>Machine Learning Zoomcamp</td>\n",
       "      <td>2021</td>\n",
       "      <td>NaN</td>\n",
       "    </tr>\n",
       "  </tbody>\n",
       "</table>\n",
       "</div>"
      ],
      "text/plain": [
       "   question_id                                           question  \\\n",
       "0        79062  For categorical target set, where the distribu...   \n",
       "1       468946  Is there anything that we are not allowed to u...   \n",
       "2       968800  I have been catching up and have been doing ho...   \n",
       "3       688404  Could you please explain what code we should l...   \n",
       "4        63921  Is it just me or does the model have really ba...   \n",
       "\n",
       "             course_question  year_question  \\\n",
       "0  Machine Learning Zoomcamp           2021   \n",
       "1  Machine Learning Zoomcamp           2021   \n",
       "2  Data Engineering Zoomcamp           2022   \n",
       "3  Data Engineering Zoomcamp           2022   \n",
       "4  Machine Learning Zoomcamp           2021   \n",
       "\n",
       "                    candidate_answers  answer_id  \\\n",
       "0  156400,754877,105368,643810,912439     156400   \n",
       "1  641330,634887,912439,425941,642829     634887   \n",
       "2    954016,167856,75919,36798,838013     954016   \n",
       "3    198661,629898,686577,3699,141765       3699   \n",
       "4  754877,604487,912439,858915,425941     858915   \n",
       "\n",
       "                                              answer  \\\n",
       "0  Alexey\\nShould we use something non-standard t...   \n",
       "1  No, I don't think there is anything you cannot...   \n",
       "2  Alexey\\nYes, you will be. You can submit the p...   \n",
       "3  Alexey\\nI think the question refers to the hom...   \n",
       "4  Dmitry\\nIt's fine, because this is the showcas...   \n",
       "\n",
       "               course_answer  year_answer attachments_files  \n",
       "0  Machine Learning Zoomcamp         2021               NaN  \n",
       "1  Machine Learning Zoomcamp         2021               NaN  \n",
       "2  Data Engineering Zoomcamp         2022               NaN  \n",
       "3  Data Engineering Zoomcamp         2022               NaN  \n",
       "4  Machine Learning Zoomcamp         2021               NaN  "
      ]
     },
     "execution_count": 8,
     "metadata": {},
     "output_type": "execute_result"
    }
   ],
   "source": [
    "train_merged_df.head()"
   ]
  },
  {
   "cell_type": "markdown",
   "id": "88ab0244",
   "metadata": {
    "papermill": {
     "duration": 0.007418,
     "end_time": "2023-12-09T14:36:30.084432",
     "exception": false,
     "start_time": "2023-12-09T14:36:30.077014",
     "status": "completed"
    },
    "tags": []
   },
   "source": [
    "We can take BERT model for tokenization and building text emdeddings."
   ]
  },
  {
   "cell_type": "code",
   "execution_count": 9,
   "id": "a88fa634",
   "metadata": {
    "execution": {
     "iopub.execute_input": "2023-12-09T14:36:30.100387Z",
     "iopub.status.busy": "2023-12-09T14:36:30.100067Z",
     "iopub.status.idle": "2023-12-09T14:36:30.171766Z",
     "shell.execute_reply": "2023-12-09T14:36:30.170688Z"
    },
    "papermill": {
     "duration": 0.081989,
     "end_time": "2023-12-09T14:36:30.173752",
     "exception": false,
     "start_time": "2023-12-09T14:36:30.091763",
     "status": "completed"
    },
    "tags": []
   },
   "outputs": [
    {
     "name": "stdout",
     "output_type": "stream",
     "text": [
      "Available device: cuda\n"
     ]
    }
   ],
   "source": [
    "# Use GPU if available\n",
    "device = torch.device(\"cuda\" if torch.cuda.is_available() else \"cpu\")\n",
    "print(f\"Available device: {device}\")"
   ]
  },
  {
   "cell_type": "code",
   "execution_count": 10,
   "id": "20c954c3",
   "metadata": {
    "execution": {
     "iopub.execute_input": "2023-12-09T14:36:30.190533Z",
     "iopub.status.busy": "2023-12-09T14:36:30.189981Z",
     "iopub.status.idle": "2023-12-09T14:36:37.583666Z",
     "shell.execute_reply": "2023-12-09T14:36:37.582771Z"
    },
    "papermill": {
     "duration": 7.404251,
     "end_time": "2023-12-09T14:36:37.585754",
     "exception": false,
     "start_time": "2023-12-09T14:36:30.181503",
     "status": "completed"
    },
    "tags": []
   },
   "outputs": [
    {
     "data": {
      "application/vnd.jupyter.widget-view+json": {
       "model_id": "4a150d6a597d47f9a8d9e10ad4162fb7",
       "version_major": 2,
       "version_minor": 0
      },
      "text/plain": [
       "tokenizer_config.json:   0%|          | 0.00/28.0 [00:00<?, ?B/s]"
      ]
     },
     "metadata": {},
     "output_type": "display_data"
    },
    {
     "data": {
      "application/vnd.jupyter.widget-view+json": {
       "model_id": "32a1d984234942ecb1705e5a915e4b24",
       "version_major": 2,
       "version_minor": 0
      },
      "text/plain": [
       "vocab.txt:   0%|          | 0.00/232k [00:00<?, ?B/s]"
      ]
     },
     "metadata": {},
     "output_type": "display_data"
    },
    {
     "data": {
      "application/vnd.jupyter.widget-view+json": {
       "model_id": "3056c3ad0e4b450180ba8e8f64ff93fc",
       "version_major": 2,
       "version_minor": 0
      },
      "text/plain": [
       "tokenizer.json:   0%|          | 0.00/466k [00:00<?, ?B/s]"
      ]
     },
     "metadata": {},
     "output_type": "display_data"
    },
    {
     "data": {
      "application/vnd.jupyter.widget-view+json": {
       "model_id": "b9229ea2d28e49d980020b3657eccb9a",
       "version_major": 2,
       "version_minor": 0
      },
      "text/plain": [
       "config.json:   0%|          | 0.00/570 [00:00<?, ?B/s]"
      ]
     },
     "metadata": {},
     "output_type": "display_data"
    },
    {
     "data": {
      "application/vnd.jupyter.widget-view+json": {
       "model_id": "f3a8669951dd40228195bcc835684081",
       "version_major": 2,
       "version_minor": 0
      },
      "text/plain": [
       "model.safetensors:   0%|          | 0.00/440M [00:00<?, ?B/s]"
      ]
     },
     "metadata": {},
     "output_type": "display_data"
    },
    {
     "data": {
      "text/plain": [
       "BertModel(\n",
       "  (embeddings): BertEmbeddings(\n",
       "    (word_embeddings): Embedding(30522, 768, padding_idx=0)\n",
       "    (position_embeddings): Embedding(512, 768)\n",
       "    (token_type_embeddings): Embedding(2, 768)\n",
       "    (LayerNorm): LayerNorm((768,), eps=1e-12, elementwise_affine=True)\n",
       "    (dropout): Dropout(p=0.1, inplace=False)\n",
       "  )\n",
       "  (encoder): BertEncoder(\n",
       "    (layer): ModuleList(\n",
       "      (0-11): 12 x BertLayer(\n",
       "        (attention): BertAttention(\n",
       "          (self): BertSelfAttention(\n",
       "            (query): Linear(in_features=768, out_features=768, bias=True)\n",
       "            (key): Linear(in_features=768, out_features=768, bias=True)\n",
       "            (value): Linear(in_features=768, out_features=768, bias=True)\n",
       "            (dropout): Dropout(p=0.1, inplace=False)\n",
       "          )\n",
       "          (output): BertSelfOutput(\n",
       "            (dense): Linear(in_features=768, out_features=768, bias=True)\n",
       "            (LayerNorm): LayerNorm((768,), eps=1e-12, elementwise_affine=True)\n",
       "            (dropout): Dropout(p=0.1, inplace=False)\n",
       "          )\n",
       "        )\n",
       "        (intermediate): BertIntermediate(\n",
       "          (dense): Linear(in_features=768, out_features=3072, bias=True)\n",
       "          (intermediate_act_fn): GELUActivation()\n",
       "        )\n",
       "        (output): BertOutput(\n",
       "          (dense): Linear(in_features=3072, out_features=768, bias=True)\n",
       "          (LayerNorm): LayerNorm((768,), eps=1e-12, elementwise_affine=True)\n",
       "          (dropout): Dropout(p=0.1, inplace=False)\n",
       "        )\n",
       "      )\n",
       "    )\n",
       "  )\n",
       "  (pooler): BertPooler(\n",
       "    (dense): Linear(in_features=768, out_features=768, bias=True)\n",
       "    (activation): Tanh()\n",
       "  )\n",
       ")"
      ]
     },
     "execution_count": 10,
     "metadata": {},
     "output_type": "execute_result"
    }
   ],
   "source": [
    "# Getting pre-trained BERT model\n",
    "model_name = 'bert-base-uncased'\n",
    "tokenizer = BertTokenizer.from_pretrained(model_name)\n",
    "model = BertModel.from_pretrained(model_name)\n",
    "model.to(device) # Move model to GPU"
   ]
  },
  {
   "cell_type": "code",
   "execution_count": 11,
   "id": "9aa8c7fe",
   "metadata": {
    "execution": {
     "iopub.execute_input": "2023-12-09T14:36:37.606064Z",
     "iopub.status.busy": "2023-12-09T14:36:37.605527Z",
     "iopub.status.idle": "2023-12-09T14:36:37.611796Z",
     "shell.execute_reply": "2023-12-09T14:36:37.610956Z"
    },
    "papermill": {
     "duration": 0.01821,
     "end_time": "2023-12-09T14:36:37.613689",
     "exception": false,
     "start_time": "2023-12-09T14:36:37.595479",
     "status": "completed"
    },
    "tags": []
   },
   "outputs": [],
   "source": [
    "def get_bert_embeddings(text):\n",
    "    \"\"\"\n",
    "    Function for getting text embeddings using BERT\n",
    "    Returns one embedding as an average of the words embeddings of the text \n",
    "    \"\"\"\n",
    "    tokens = tokenizer(text, return_tensors='pt', truncation=True, padding=True)\n",
    "    tokens = {key: value.to(device) for key, value in tokens.items()}\n",
    "    with torch.no_grad():\n",
    "        outputs = model(**tokens)\n",
    "    return outputs['last_hidden_state'][0].mean(dim=0).cpu().numpy()"
   ]
  },
  {
   "cell_type": "code",
   "execution_count": 12,
   "id": "f4420f89",
   "metadata": {
    "execution": {
     "iopub.execute_input": "2023-12-09T14:36:37.633086Z",
     "iopub.status.busy": "2023-12-09T14:36:37.632279Z",
     "iopub.status.idle": "2023-12-09T14:36:51.790406Z",
     "shell.execute_reply": "2023-12-09T14:36:51.789594Z"
    },
    "papermill": {
     "duration": 14.170517,
     "end_time": "2023-12-09T14:36:51.792882",
     "exception": false,
     "start_time": "2023-12-09T14:36:37.622365",
     "status": "completed"
    },
    "tags": []
   },
   "outputs": [],
   "source": [
    "# Get questions and answers embeddings for the train part\n",
    "train_question_embeddings = train_merged_df['question'].apply(get_bert_embeddings)\n",
    "train_answer_embeddings = train_merged_df['answer'].apply(get_bert_embeddings)"
   ]
  },
  {
   "cell_type": "code",
   "execution_count": 13,
   "id": "3e8248bb",
   "metadata": {
    "execution": {
     "iopub.execute_input": "2023-12-09T14:36:51.811604Z",
     "iopub.status.busy": "2023-12-09T14:36:51.811271Z",
     "iopub.status.idle": "2023-12-09T14:36:51.823360Z",
     "shell.execute_reply": "2023-12-09T14:36:51.822499Z"
    },
    "papermill": {
     "duration": 0.023734,
     "end_time": "2023-12-09T14:36:51.825518",
     "exception": false,
     "start_time": "2023-12-09T14:36:51.801784",
     "status": "completed"
    },
    "tags": []
   },
   "outputs": [],
   "source": [
    "# Normalization\n",
    "scaler = StandardScaler()\n",
    "train_question_embeddings_standardized = scaler.fit_transform(np.array(train_question_embeddings.tolist()))\n",
    "train_answer_embeddings_standardized = scaler.transform(np.array(train_answer_embeddings.tolist()))"
   ]
  },
  {
   "cell_type": "markdown",
   "id": "63dad2a1",
   "metadata": {
    "papermill": {
     "duration": 0.008289,
     "end_time": "2023-12-09T14:36:51.842402",
     "exception": false,
     "start_time": "2023-12-09T14:36:51.834113",
     "status": "completed"
    },
    "tags": []
   },
   "source": [
    "Now we can calculate distance between questions and answers embeddings. Let's start from training part."
   ]
  },
  {
   "cell_type": "code",
   "execution_count": 14,
   "id": "b7f8fc16",
   "metadata": {
    "execution": {
     "iopub.execute_input": "2023-12-09T14:36:51.861449Z",
     "iopub.status.busy": "2023-12-09T14:36:51.861060Z",
     "iopub.status.idle": "2023-12-09T14:36:51.869701Z",
     "shell.execute_reply": "2023-12-09T14:36:51.868802Z"
    },
    "papermill": {
     "duration": 0.020487,
     "end_time": "2023-12-09T14:36:51.871734",
     "exception": false,
     "start_time": "2023-12-09T14:36:51.851247",
     "status": "completed"
    },
    "tags": []
   },
   "outputs": [],
   "source": [
    "def get_predictions(df_questions, df_answers):\n",
    "    \"\"\"\n",
    "    Function that finds the best answer to each question according to their similarity.\n",
    "    \"\"\"\n",
    "    predicted_answers = []\n",
    "    predicted_answer_ids = []\n",
    "\n",
    "    for index, row in df_questions.iterrows():\n",
    "        question_text = row['question']\n",
    "        candidate_answer_ids = [int(answer_id) for answer_id in row['candidate_answers'].split(\",\")]\n",
    "\n",
    "        # Getting questions embeddings\n",
    "        question_embedding = get_bert_embeddings(question_text)\n",
    "        question_embedding_standardized = scaler.transform(question_embedding.reshape(1, -1))\n",
    "\n",
    "        # Getting answer candidate embeddings\n",
    "        candidate_answers_df = df_answers[df_answers['answer_id'].isin(candidate_answer_ids)]\n",
    "        candidate_answer_embeddings = candidate_answers_df['answer'].apply(get_bert_embeddings)\n",
    "        candidate_answer_embeddings_standardized = scaler.transform(np.array(candidate_answer_embeddings.tolist()))\n",
    "\n",
    "        # Calculating similarity between question and answers embeddings\n",
    "        similarities = cosine_similarity(question_embedding_standardized, candidate_answer_embeddings_standardized).flatten()\n",
    "\n",
    "        # Taking index of the best answer candidate\n",
    "        best_answer_index = similarities.argmax()\n",
    "\n",
    "        predicted_answer = candidate_answers_df.iloc[best_answer_index]['answer']\n",
    "        predicted_answer_id = candidate_answers_df.iloc[best_answer_index]['answer_id']\n",
    "        predicted_answers.append(predicted_answer)\n",
    "        predicted_answer_ids.append(predicted_answer_id)\n",
    "        \n",
    "    return predicted_answer_ids, predicted_answers"
   ]
  },
  {
   "cell_type": "code",
   "execution_count": 15,
   "id": "1d531636",
   "metadata": {
    "execution": {
     "iopub.execute_input": "2023-12-09T14:36:51.890899Z",
     "iopub.status.busy": "2023-12-09T14:36:51.890540Z",
     "iopub.status.idle": "2023-12-09T14:36:51.896362Z",
     "shell.execute_reply": "2023-12-09T14:36:51.895467Z"
    },
    "papermill": {
     "duration": 0.01752,
     "end_time": "2023-12-09T14:36:51.898243",
     "exception": false,
     "start_time": "2023-12-09T14:36:51.880723",
     "status": "completed"
    },
    "tags": []
   },
   "outputs": [],
   "source": [
    "train_predictions_df = pd.DataFrame({\n",
    "    'question_id': train_questions_df['question_id'],     \n",
    "    'question': train_questions_df['question'],\n",
    "    'candidate_answers': train_questions_df['candidate_answers'],\n",
    "    'answer_id': train_questions_df['answer_id'],\n",
    "})"
   ]
  },
  {
   "cell_type": "code",
   "execution_count": 16,
   "id": "040e81da",
   "metadata": {
    "execution": {
     "iopub.execute_input": "2023-12-09T14:36:51.917059Z",
     "iopub.status.busy": "2023-12-09T14:36:51.916740Z",
     "iopub.status.idle": "2023-12-09T14:37:39.671788Z",
     "shell.execute_reply": "2023-12-09T14:37:39.670778Z"
    },
    "papermill": {
     "duration": 47.767342,
     "end_time": "2023-12-09T14:37:39.674339",
     "exception": false,
     "start_time": "2023-12-09T14:36:51.906997",
     "status": "completed"
    },
    "tags": []
   },
   "outputs": [],
   "source": [
    "train_predictions_df['predicted_answer_id'], train_predictions_df['predicted_answer'] = \\\n",
    "    get_predictions(train_questions_df, train_answers_df)"
   ]
  },
  {
   "cell_type": "code",
   "execution_count": 17,
   "id": "9a8ae427",
   "metadata": {
    "execution": {
     "iopub.execute_input": "2023-12-09T14:37:39.694917Z",
     "iopub.status.busy": "2023-12-09T14:37:39.694101Z",
     "iopub.status.idle": "2023-12-09T14:37:39.705429Z",
     "shell.execute_reply": "2023-12-09T14:37:39.704554Z"
    },
    "papermill": {
     "duration": 0.023275,
     "end_time": "2023-12-09T14:37:39.707618",
     "exception": false,
     "start_time": "2023-12-09T14:37:39.684343",
     "status": "completed"
    },
    "tags": []
   },
   "outputs": [
    {
     "data": {
      "text/html": [
       "<div>\n",
       "<style scoped>\n",
       "    .dataframe tbody tr th:only-of-type {\n",
       "        vertical-align: middle;\n",
       "    }\n",
       "\n",
       "    .dataframe tbody tr th {\n",
       "        vertical-align: top;\n",
       "    }\n",
       "\n",
       "    .dataframe thead th {\n",
       "        text-align: right;\n",
       "    }\n",
       "</style>\n",
       "<table border=\"1\" class=\"dataframe\">\n",
       "  <thead>\n",
       "    <tr style=\"text-align: right;\">\n",
       "      <th></th>\n",
       "      <th>question_id</th>\n",
       "      <th>question</th>\n",
       "      <th>candidate_answers</th>\n",
       "      <th>answer_id</th>\n",
       "      <th>predicted_answer_id</th>\n",
       "      <th>predicted_answer</th>\n",
       "    </tr>\n",
       "  </thead>\n",
       "  <tbody>\n",
       "    <tr>\n",
       "      <th>0</th>\n",
       "      <td>79062</td>\n",
       "      <td>For categorical target set, where the distribu...</td>\n",
       "      <td>156400,754877,105368,643810,912439</td>\n",
       "      <td>156400</td>\n",
       "      <td>156400</td>\n",
       "      <td>Alexey\\nShould we use something non-standard t...</td>\n",
       "    </tr>\n",
       "    <tr>\n",
       "      <th>1</th>\n",
       "      <td>468946</td>\n",
       "      <td>Is there anything that we are not allowed to u...</td>\n",
       "      <td>641330,634887,912439,425941,642829</td>\n",
       "      <td>634887</td>\n",
       "      <td>634887</td>\n",
       "      <td>No, I don't think there is anything you cannot...</td>\n",
       "    </tr>\n",
       "    <tr>\n",
       "      <th>2</th>\n",
       "      <td>968800</td>\n",
       "      <td>I have been catching up and have been doing ho...</td>\n",
       "      <td>954016,167856,75919,36798,838013</td>\n",
       "      <td>954016</td>\n",
       "      <td>954016</td>\n",
       "      <td>Alexey\\nYes, you will be. You can submit the p...</td>\n",
       "    </tr>\n",
       "    <tr>\n",
       "      <th>3</th>\n",
       "      <td>688404</td>\n",
       "      <td>Could you please explain what code we should l...</td>\n",
       "      <td>198661,629898,686577,3699,141765</td>\n",
       "      <td>3699</td>\n",
       "      <td>3699</td>\n",
       "      <td>Alexey\\nI think the question refers to the hom...</td>\n",
       "    </tr>\n",
       "    <tr>\n",
       "      <th>4</th>\n",
       "      <td>63921</td>\n",
       "      <td>Is it just me or does the model have really ba...</td>\n",
       "      <td>754877,604487,912439,858915,425941</td>\n",
       "      <td>858915</td>\n",
       "      <td>858915</td>\n",
       "      <td>Dmitry\\nIt's fine, because this is the showcas...</td>\n",
       "    </tr>\n",
       "  </tbody>\n",
       "</table>\n",
       "</div>"
      ],
      "text/plain": [
       "   question_id                                           question  \\\n",
       "0        79062  For categorical target set, where the distribu...   \n",
       "1       468946  Is there anything that we are not allowed to u...   \n",
       "2       968800  I have been catching up and have been doing ho...   \n",
       "3       688404  Could you please explain what code we should l...   \n",
       "4        63921  Is it just me or does the model have really ba...   \n",
       "\n",
       "                    candidate_answers  answer_id  predicted_answer_id  \\\n",
       "0  156400,754877,105368,643810,912439     156400               156400   \n",
       "1  641330,634887,912439,425941,642829     634887               634887   \n",
       "2    954016,167856,75919,36798,838013     954016               954016   \n",
       "3    198661,629898,686577,3699,141765       3699                 3699   \n",
       "4  754877,604487,912439,858915,425941     858915               858915   \n",
       "\n",
       "                                    predicted_answer  \n",
       "0  Alexey\\nShould we use something non-standard t...  \n",
       "1  No, I don't think there is anything you cannot...  \n",
       "2  Alexey\\nYes, you will be. You can submit the p...  \n",
       "3  Alexey\\nI think the question refers to the hom...  \n",
       "4  Dmitry\\nIt's fine, because this is the showcas...  "
      ]
     },
     "execution_count": 17,
     "metadata": {},
     "output_type": "execute_result"
    }
   ],
   "source": [
    "train_predictions_df.head()"
   ]
  },
  {
   "cell_type": "code",
   "execution_count": 18,
   "id": "e5ced914",
   "metadata": {
    "execution": {
     "iopub.execute_input": "2023-12-09T14:37:39.728392Z",
     "iopub.status.busy": "2023-12-09T14:37:39.727862Z",
     "iopub.status.idle": "2023-12-09T14:37:39.733776Z",
     "shell.execute_reply": "2023-12-09T14:37:39.732861Z"
    },
    "papermill": {
     "duration": 0.018838,
     "end_time": "2023-12-09T14:37:39.736028",
     "exception": false,
     "start_time": "2023-12-09T14:37:39.717190",
     "status": "completed"
    },
    "tags": []
   },
   "outputs": [
    {
     "name": "stdout",
     "output_type": "stream",
     "text": [
      "Accuracy: 0.7330\n"
     ]
    }
   ],
   "source": [
    "# Accuracy calculation\n",
    "accuracy = (train_predictions_df['predicted_answer'] == train_answers_df['answer']).mean()\n",
    "print(f'Accuracy: {accuracy:.4f}')"
   ]
  },
  {
   "cell_type": "markdown",
   "id": "60942c65",
   "metadata": {
    "papermill": {
     "duration": 0.009084,
     "end_time": "2023-12-09T14:37:39.754388",
     "exception": false,
     "start_time": "2023-12-09T14:37:39.745304",
     "status": "completed"
    },
    "tags": []
   },
   "source": [
    "Now we can use the same approach to get answers for the test part."
   ]
  },
  {
   "cell_type": "code",
   "execution_count": 19,
   "id": "a36c9807",
   "metadata": {
    "execution": {
     "iopub.execute_input": "2023-12-09T14:37:39.774709Z",
     "iopub.status.busy": "2023-12-09T14:37:39.774329Z",
     "iopub.status.idle": "2023-12-09T14:37:39.782585Z",
     "shell.execute_reply": "2023-12-09T14:37:39.781600Z"
    },
    "papermill": {
     "duration": 0.020849,
     "end_time": "2023-12-09T14:37:39.784610",
     "exception": false,
     "start_time": "2023-12-09T14:37:39.763761",
     "status": "completed"
    },
    "tags": []
   },
   "outputs": [
    {
     "data": {
      "text/plain": [
       "(514, 5)"
      ]
     },
     "execution_count": 19,
     "metadata": {},
     "output_type": "execute_result"
    }
   ],
   "source": [
    "test_questions_df = test_questions_df.drop_duplicates(subset='question_id')\n",
    "test_questions_df.shape"
   ]
  },
  {
   "cell_type": "code",
   "execution_count": 20,
   "id": "3c3bb040",
   "metadata": {
    "execution": {
     "iopub.execute_input": "2023-12-09T14:37:39.806480Z",
     "iopub.status.busy": "2023-12-09T14:37:39.805817Z",
     "iopub.status.idle": "2023-12-09T14:38:29.937757Z",
     "shell.execute_reply": "2023-12-09T14:38:29.936758Z"
    },
    "papermill": {
     "duration": 50.145465,
     "end_time": "2023-12-09T14:38:29.940283",
     "exception": false,
     "start_time": "2023-12-09T14:37:39.794818",
     "status": "completed"
    },
    "tags": []
   },
   "outputs": [],
   "source": [
    "# Creating the dataframe for the test part\n",
    "test_predictions_df = pd.DataFrame({\n",
    "    'question_id': test_questions_df['question_id'], \n",
    "})\n",
    "test_predictions_df['predicted_answer_id'], test_predictions_df['predicted_answer'] = \\\n",
    "    get_predictions(test_questions_df, test_answers_df)"
   ]
  },
  {
   "cell_type": "code",
   "execution_count": 21,
   "id": "ab7461aa",
   "metadata": {
    "execution": {
     "iopub.execute_input": "2023-12-09T14:38:29.960763Z",
     "iopub.status.busy": "2023-12-09T14:38:29.960058Z",
     "iopub.status.idle": "2023-12-09T14:38:29.969688Z",
     "shell.execute_reply": "2023-12-09T14:38:29.968727Z"
    },
    "papermill": {
     "duration": 0.021976,
     "end_time": "2023-12-09T14:38:29.971800",
     "exception": false,
     "start_time": "2023-12-09T14:38:29.949824",
     "status": "completed"
    },
    "tags": []
   },
   "outputs": [
    {
     "data": {
      "text/html": [
       "<div>\n",
       "<style scoped>\n",
       "    .dataframe tbody tr th:only-of-type {\n",
       "        vertical-align: middle;\n",
       "    }\n",
       "\n",
       "    .dataframe tbody tr th {\n",
       "        vertical-align: top;\n",
       "    }\n",
       "\n",
       "    .dataframe thead th {\n",
       "        text-align: right;\n",
       "    }\n",
       "</style>\n",
       "<table border=\"1\" class=\"dataframe\">\n",
       "  <thead>\n",
       "    <tr style=\"text-align: right;\">\n",
       "      <th></th>\n",
       "      <th>question_id</th>\n",
       "      <th>predicted_answer_id</th>\n",
       "      <th>predicted_answer</th>\n",
       "    </tr>\n",
       "  </thead>\n",
       "  <tbody>\n",
       "    <tr>\n",
       "      <th>0</th>\n",
       "      <td>707</td>\n",
       "      <td>767296</td>\n",
       "      <td>Alexey\\nProbably more than you want to put in....</td>\n",
       "    </tr>\n",
       "    <tr>\n",
       "      <th>1</th>\n",
       "      <td>534450</td>\n",
       "      <td>231208</td>\n",
       "      <td>Yes\u00e2\u20ac\u00a6 and no? Sometimes, yeah. I wouldn't say o...</td>\n",
       "    </tr>\n",
       "    <tr>\n",
       "      <th>2</th>\n",
       "      <td>996163</td>\n",
       "      <td>816559</td>\n",
       "      <td>Alexey\\nYou can create a Python path variable ...</td>\n",
       "    </tr>\n",
       "    <tr>\n",
       "      <th>3</th>\n",
       "      <td>860215</td>\n",
       "      <td>988549</td>\n",
       "      <td>Again, you\u00e2\u20ac\u2122ll probably hate me soon for saying...</td>\n",
       "    </tr>\n",
       "    <tr>\n",
       "      <th>4</th>\n",
       "      <td>980124</td>\n",
       "      <td>384381</td>\n",
       "      <td>Alexey\\nThe first thing about the dataset \u00e2\u20ac\u201c wh...</td>\n",
       "    </tr>\n",
       "  </tbody>\n",
       "</table>\n",
       "</div>"
      ],
      "text/plain": [
       "   question_id  predicted_answer_id  \\\n",
       "0          707               767296   \n",
       "1       534450               231208   \n",
       "2       996163               816559   \n",
       "3       860215               988549   \n",
       "4       980124               384381   \n",
       "\n",
       "                                    predicted_answer  \n",
       "0  Alexey\\nProbably more than you want to put in....  \n",
       "1  Yes\u00e2\u20ac\u00a6 and no? Sometimes, yeah. I wouldn't say o...  \n",
       "2  Alexey\\nYou can create a Python path variable ...  \n",
       "3  Again, you\u00e2\u20ac\u2122ll probably hate me soon for saying...  \n",
       "4  Alexey\\nThe first thing about the dataset \u00e2\u20ac\u201c wh...  "
      ]
     },
     "execution_count": 21,
     "metadata": {},
     "output_type": "execute_result"
    }
   ],
   "source": [
    "test_predictions_df.head()"
   ]
  },
  {
   "cell_type": "code",
   "execution_count": 22,
   "id": "a277b542",
   "metadata": {
    "execution": {
     "iopub.execute_input": "2023-12-09T14:38:29.992683Z",
     "iopub.status.busy": "2023-12-09T14:38:29.991875Z",
     "iopub.status.idle": "2023-12-09T14:38:30.001080Z",
     "shell.execute_reply": "2023-12-09T14:38:30.000215Z"
    },
    "papermill": {
     "duration": 0.021596,
     "end_time": "2023-12-09T14:38:30.003109",
     "exception": false,
     "start_time": "2023-12-09T14:38:29.981513",
     "status": "completed"
    },
    "tags": []
   },
   "outputs": [],
   "source": [
    "test_predictions_df[['question_id', 'predicted_answer_id']].to_csv('BERT_sample_submission.csv', index=False)"
   ]
  },
  {
   "cell_type": "markdown",
   "id": "28b59a53",
   "metadata": {},
   "source": [
    "Now let's submit the predictions"
   ]
  },
  {
   "cell_type": "code",
   "execution_count": 23,
   "id": "86f9728f",
   "metadata": {},
   "outputs": [
    {
     "name": "stdout",
     "output_type": "stream",
     "text": [
      "Warning: Your Kaggle API key is readable by other users on this system! To fix this, you can run 'chmod 600 /home/jovyan/.kaggle/kaggle.json'\n",
      "100%|\u00e2\u2013\u02c6\u00e2\u2013\u02c6\u00e2\u2013\u02c6\u00e2\u2013\u02c6\u00e2\u2013\u02c6\u00e2\u2013\u02c6\u00e2\u2013\u02c6\u00e2\u2013\u02c6\u00e2\u2013\u02c6\u00e2\u2013\u02c6\u00e2\u2013\u02c6\u00e2\u2013\u02c6\u00e2\u2013\u02c6\u00e2\u2013\u02c6\u00e2\u2013\u02c6\u00e2\u2013\u02c6\u00e2\u2013\u02c6\u00e2\u2013\u02c6\u00e2\u2013\u02c6\u00e2\u2013\u02c6\u00e2\u2013\u02c6\u00e2\u2013\u02c6\u00e2\u2013\u02c6\u00e2\u2013\u02c6\u00e2\u2013\u02c6\u00e2\u2013\u02c6\u00e2\u2013\u02c6\u00e2\u2013\u02c6\u00e2\u2013\u02c6\u00e2\u2013\u02c6\u00e2\u2013\u02c6\u00e2\u2013\u02c6\u00e2\u2013\u02c6\u00e2\u2013\u02c6\u00e2\u2013\u02c6\u00e2\u2013\u02c6\u00e2\u2013\u02c6\u00e2\u2013\u02c6| 6.96k/6.96k [00:00<00:00, 7.69kB/s]\n",
      "Successfully submitted to DTC Zoomcamp Q&A Challenge"
     ]
    }
   ],
   "source": [
    "!kaggle competitions submit dtc-zoomcamp-qa-challenge -f BERT_sample_submission.csv -m 'validation: 0.7330'"
   ]
  },
  {
   "cell_type": "markdown",
   "id": "57a76609",
   "metadata": {
    "papermill": {
     "duration": 0.009771,
     "end_time": "2023-12-09T14:38:30.022577",
     "exception": false,
     "start_time": "2023-12-09T14:38:30.012806",
     "status": "completed"
    },
    "tags": []
   },
   "source": [
    "What can help improve the solution:\n",
    "* using some extra data\n",
    "* taking other available features or generating the new one \n",
    "* using another approach or model (e.g. to build emdeddings and compare them)\n",
    "* model fine-tunning"
   ]
  }
 ],
 "metadata": {
  "kaggle": {
   "accelerator": "gpu",
   "dataSources": [
    {
     "databundleVersionId": 7117449,
     "sourceId": 64900,
     "sourceType": "competition"
    }
   ],
   "dockerImageVersionId": 30616,
   "isGpuEnabled": true,
   "isInternetEnabled": true,
   "language": "python",
   "sourceType": "notebook"
  },
  "kernelspec": {
   "display_name": "saturn (Python 3)",
   "language": "python",
   "name": "python3"
  },
  "language_info": {
   "codemirror_mode": {
    "name": "ipython",
    "version": 3
   },
   "file_extension": ".py",
   "mimetype": "text/x-python",
   "name": "python",
   "nbconvert_exporter": "python",
   "pygments_lexer": "ipython3",
   "version": "3.10.13"
  },
  "papermill": {
   "default_parameters": {},
   "duration": 133.529266,
   "end_time": "2023-12-09T14:38:32.708788",
   "environment_variables": {},
   "exception": null,
   "input_path": "__notebook__.ipynb",
   "output_path": "__notebook__.ipynb",
   "parameters": {},
   "start_time": "2023-12-09T14:36:19.179522",
   "version": "2.4.0"
  },
  "widgets": {
   "application/vnd.jupyter.widget-state+json": {
    "state": {
     "0977caff00184361aeb3ca4e37e24f98": {
      "model_module": "@jupyter-widgets/base",
      "model_module_version": "1.2.0",
      "model_name": "LayoutModel",
      "state": {
       "_model_module": "@jupyter-widgets/base",
       "_model_module_version": "1.2.0",
       "_model_name": "LayoutModel",
       "_view_count": null,
       "_view_module": "@jupyter-widgets/base",
       "_view_module_version": "1.2.0",
       "_view_name": "LayoutView",
       "align_content": null,
       "align_items": null,
       "align_self": null,
       "border": null,
       "bottom": null,
       "display": null,
       "flex": null,
       "flex_flow": null,
       "grid_area": null,
       "grid_auto_columns": null,
       "grid_auto_flow": null,
       "grid_auto_rows": null,
       "grid_column": null,
       "grid_gap": null,
       "grid_row": null,
       "grid_template_areas": null,
       "grid_template_columns": null,
       "grid_template_rows": null,
       "height": null,
       "justify_content": null,
       "justify_items": null,
       "left": null,
       "margin": null,
       "max_height": null,
       "max_width": null,
       "min_height": null,
       "min_width": null,
       "object_fit": null,
       "object_position": null,
       "order": null,
       "overflow": null,
       "overflow_x": null,
       "overflow_y": null,
       "padding": null,
       "right": null,
       "top": null,
       "visibility": null,
       "width": null
      }
     },
     "12b351904dbd4dd9946dec4fb011203a": {
      "model_module": "@jupyter-widgets/controls",
      "model_module_version": "1.5.0",
      "model_name": "ProgressStyleModel",
      "state": {
       "_model_module": "@jupyter-widgets/controls",
       "_model_module_version": "1.5.0",
       "_model_name": "ProgressStyleModel",
       "_view_count": null,
       "_view_module": "@jupyter-widgets/base",
       "_view_module_version": "1.2.0",
       "_view_name": "StyleView",
       "bar_color": null,
       "description_width": ""
      }
     },
     "17e0641287204d8fa3bcb9d8fcc74e1b": {
      "model_module": "@jupyter-widgets/controls",
      "model_module_version": "1.5.0",
      "model_name": "HBoxModel",
      "state": {
       "_dom_classes": [],
       "_model_module": "@jupyter-widgets/controls",
       "_model_module_version": "1.5.0",
       "_model_name": "HBoxModel",
       "_view_count": null,
       "_view_module": "@jupyter-widgets/controls",
       "_view_module_version": "1.5.0",
       "_view_name": "HBoxView",
       "box_style": "",
       "children": [
        "IPY_MODEL_2b0468002e2b4f52a20689dea66673a9",
        "IPY_MODEL_8afb57b49ec64daa8b7d4eeff7032a83",
        "IPY_MODEL_93f9fe3527b7436fa5b182e230b7bb22"
       ],
       "layout": "IPY_MODEL_ebdfc83ab795454ba16873fb0295f5d1"
      }
     },
     "26c70c550d594079978938afd10eecb4": {
      "model_module": "@jupyter-widgets/controls",
      "model_module_version": "1.5.0",
      "model_name": "FloatProgressModel",
      "state": {
       "_dom_classes": [],
       "_model_module": "@jupyter-widgets/controls",
       "_model_module_version": "1.5.0",
       "_model_name": "FloatProgressModel",
       "_view_count": null,
       "_view_module": "@jupyter-widgets/controls",
       "_view_module_version": "1.5.0",
       "_view_name": "ProgressView",
       "bar_style": "success",
       "description": "",
       "description_tooltip": null,
       "layout": "IPY_MODEL_5b400c96fe154497bf3add0ae6885b19",
       "max": 440449768,
       "min": 0,
       "orientation": "horizontal",
       "style": "IPY_MODEL_81f73948c00e49f191f9dca9a731931f",
       "value": 440449768
      }
     },
     "28339b7091af440ab871d960b8d38d30": {
      "model_module": "@jupyter-widgets/base",
      "model_module_version": "1.2.0",
      "model_name": "LayoutModel",
      "state": {
       "_model_module": "@jupyter-widgets/base",
       "_model_module_version": "1.2.0",
       "_model_name": "LayoutModel",
       "_view_count": null,
       "_view_module": "@jupyter-widgets/base",
       "_view_module_version": "1.2.0",
       "_view_name": "LayoutView",
       "align_content": null,
       "align_items": null,
       "align_self": null,
       "border": null,
       "bottom": null,
       "display": null,
       "flex": null,
       "flex_flow": null,
       "grid_area": null,
       "grid_auto_columns": null,
       "grid_auto_flow": null,
       "grid_auto_rows": null,
       "grid_column": null,
       "grid_gap": null,
       "grid_row": null,
       "grid_template_areas": null,
       "grid_template_columns": null,
       "grid_template_rows": null,
       "height": null,
       "justify_content": null,
       "justify_items": null,
       "left": null,
       "margin": null,
       "max_height": null,
       "max_width": null,
       "min_height": null,
       "min_width": null,
       "object_fit": null,
       "object_position": null,
       "order": null,
       "overflow": null,
       "overflow_x": null,
       "overflow_y": null,
       "padding": null,
       "right": null,
       "top": null,
       "visibility": null,
       "width": null
      }
     },
     "2b0468002e2b4f52a20689dea66673a9": {
      "model_module": "@jupyter-widgets/controls",
      "model_module_version": "1.5.0",
      "model_name": "HTMLModel",
      "state": {
       "_dom_classes": [],
       "_model_module": "@jupyter-widgets/controls",
       "_model_module_version": "1.5.0",
       "_model_name": "HTMLModel",
       "_view_count": null,
       "_view_module": "@jupyter-widgets/controls",
       "_view_module_version": "1.5.0",
       "_view_name": "HTMLView",
       "description": "",
       "description_tooltip": null,
       "layout": "IPY_MODEL_911c6a395294449a996290fa2436c0e4",
       "placeholder": "\u00e2\u20ac\u2039",
       "style": "IPY_MODEL_70b213301ceb4fd5bea4666d34746808",
       "value": "vocab.txt: 100%"
      }
     },
     "2c09ae5f5e404e7096aa4bb950ee7fbf": {
      "model_module": "@jupyter-widgets/controls",
      "model_module_version": "1.5.0",
      "model_name": "HTMLModel",
      "state": {
       "_dom_classes": [],
       "_model_module": "@jupyter-widgets/controls",
       "_model_module_version": "1.5.0",
       "_model_name": "HTMLModel",
       "_view_count": null,
       "_view_module": "@jupyter-widgets/controls",
       "_view_module_version": "1.5.0",
       "_view_name": "HTMLView",
       "description": "",
       "description_tooltip": null,
       "layout": "IPY_MODEL_0977caff00184361aeb3ca4e37e24f98",
       "placeholder": "\u00e2\u20ac\u2039",
       "style": "IPY_MODEL_554f67c2cfdd471bbdff69dfec28adc8",
       "value": "tokenizer.json: 100%"
      }
     },
     "2cb64bf51d704deebdb2cf188bb11263": {
      "model_module": "@jupyter-widgets/base",
      "model_module_version": "1.2.0",
      "model_name": "LayoutModel",
      "state": {
       "_model_module": "@jupyter-widgets/base",
       "_model_module_version": "1.2.0",
       "_model_name": "LayoutModel",
       "_view_count": null,
       "_view_module": "@jupyter-widgets/base",
       "_view_module_version": "1.2.0",
       "_view_name": "LayoutView",
       "align_content": null,
       "align_items": null,
       "align_self": null,
       "border": null,
       "bottom": null,
       "display": null,
       "flex": null,
       "flex_flow": null,
       "grid_area": null,
       "grid_auto_columns": null,
       "grid_auto_flow": null,
       "grid_auto_rows": null,
       "grid_column": null,
       "grid_gap": null,
       "grid_row": null,
       "grid_template_areas": null,
       "grid_template_columns": null,
       "grid_template_rows": null,
       "height": null,
       "justify_content": null,
       "justify_items": null,
       "left": null,
       "margin": null,
       "max_height": null,
       "max_width": null,
       "min_height": null,
       "min_width": null,
       "object_fit": null,
       "object_position": null,
       "order": null,
       "overflow": null,
       "overflow_x": null,
       "overflow_y": null,
       "padding": null,
       "right": null,
       "top": null,
       "visibility": null,
       "width": null
      }
     },
     "2cba09f5b789499e83d39de012db6331": {
      "model_module": "@jupyter-widgets/controls",
      "model_module_version": "1.5.0",
      "model_name": "HTMLModel",
      "state": {
       "_dom_classes": [],
       "_model_module": "@jupyter-widgets/controls",
       "_model_module_version": "1.5.0",
       "_model_name": "HTMLModel",
       "_view_count": null,
       "_view_module": "@jupyter-widgets/controls",
       "_view_module_version": "1.5.0",
       "_view_name": "HTMLView",
       "description": "",
       "description_tooltip": null,
       "layout": "IPY_MODEL_b65b65d0495445b39889f29949fdface",
       "placeholder": "\u00e2\u20ac\u2039",
       "style": "IPY_MODEL_724b5c4600444d5395a06dac6b1b6d6a",
       "value": " 570/570 [00:00&lt;00:00, 48.7kB/s]"
      }
     },
     "53670268e2eb4b4da0508a76203f500e": {
      "model_module": "@jupyter-widgets/controls",
      "model_module_version": "1.5.0",
      "model_name": "HTMLModel",
      "state": {
       "_dom_classes": [],
       "_model_module": "@jupyter-widgets/controls",
       "_model_module_version": "1.5.0",
       "_model_name": "HTMLModel",
       "_view_count": null,
       "_view_module": "@jupyter-widgets/controls",
       "_view_module_version": "1.5.0",
       "_view_name": "HTMLView",
       "description": "",
       "description_tooltip": null,
       "layout": "IPY_MODEL_5de4c7b5c4b24858bcc5293fee8d0f6c",
       "placeholder": "\u00e2\u20ac\u2039",
       "style": "IPY_MODEL_71983ffe3327404a944205bf9981bb53",
       "value": " 466k/466k [00:00&lt;00:00, 1.92MB/s]"
      }
     },
     "554f67c2cfdd471bbdff69dfec28adc8": {
      "model_module": "@jupyter-widgets/controls",
      "model_module_version": "1.5.0",
      "model_name": "DescriptionStyleModel",
      "state": {
       "_model_module": "@jupyter-widgets/controls",
       "_model_module_version": "1.5.0",
       "_model_name": "DescriptionStyleModel",
       "_view_count": null,
       "_view_module": "@jupyter-widgets/base",
       "_view_module_version": "1.2.0",
       "_view_name": "StyleView",
       "description_width": ""
      }
     },
     "5b400c96fe154497bf3add0ae6885b19": {
      "model_module": "@jupyter-widgets/base",
      "model_module_version": "1.2.0",
      "model_name": "LayoutModel",
      "state": {
       "_model_module": "@jupyter-widgets/base",
       "_model_module_version": "1.2.0",
       "_model_name": "LayoutModel",
       "_view_count": null,
       "_view_module": "@jupyter-widgets/base",
       "_view_module_version": "1.2.0",
       "_view_name": "LayoutView",
       "align_content": null,
       "align_items": null,
       "align_self": null,
       "border": null,
       "bottom": null,
       "display": null,
       "flex": null,
       "flex_flow": null,
       "grid_area": null,
       "grid_auto_columns": null,
       "grid_auto_flow": null,
       "grid_auto_rows": null,
       "grid_column": null,
       "grid_gap": null,
       "grid_row": null,
       "grid_template_areas": null,
       "grid_template_columns": null,
       "grid_template_rows": null,
       "height": null,
       "justify_content": null,
       "justify_items": null,
       "left": null,
       "margin": null,
       "max_height": null,
       "max_width": null,
       "min_height": null,
       "min_width": null,
       "object_fit": null,
       "object_position": null,
       "order": null,
       "overflow": null,
       "overflow_x": null,
       "overflow_y": null,
       "padding": null,
       "right": null,
       "top": null,
       "visibility": null,
       "width": null
      }
     },
     "5dd5aeb72b8b47b48739fcdb18ac04b7": {
      "model_module": "@jupyter-widgets/base",
      "model_module_version": "1.2.0",
      "model_name": "LayoutModel",
      "state": {
       "_model_module": "@jupyter-widgets/base",
       "_model_module_version": "1.2.0",
       "_model_name": "LayoutModel",
       "_view_count": null,
       "_view_module": "@jupyter-widgets/base",
       "_view_module_version": "1.2.0",
       "_view_name": "LayoutView",
       "align_content": null,
       "align_items": null,
       "align_self": null,
       "border": null,
       "bottom": null,
       "display": null,
       "flex": null,
       "flex_flow": null,
       "grid_area": null,
       "grid_auto_columns": null,
       "grid_auto_flow": null,
       "grid_auto_rows": null,
       "grid_column": null,
       "grid_gap": null,
       "grid_row": null,
       "grid_template_areas": null,
       "grid_template_columns": null,
       "grid_template_rows": null,
       "height": null,
       "justify_content": null,
       "justify_items": null,
       "left": null,
       "margin": null,
       "max_height": null,
       "max_width": null,
       "min_height": null,
       "min_width": null,
       "object_fit": null,
       "object_position": null,
       "order": null,
       "overflow": null,
       "overflow_x": null,
       "overflow_y": null,
       "padding": null,
       "right": null,
       "top": null,
       "visibility": null,
       "width": null
      }
     },
     "5de4c7b5c4b24858bcc5293fee8d0f6c": {
      "model_module": "@jupyter-widgets/base",
      "model_module_version": "1.2.0",
      "model_name": "LayoutModel",
      "state": {
       "_model_module": "@jupyter-widgets/base",
       "_model_module_version": "1.2.0",
       "_model_name": "LayoutModel",
       "_view_count": null,
       "_view_module": "@jupyter-widgets/base",
       "_view_module_version": "1.2.0",
       "_view_name": "LayoutView",
       "align_content": null,
       "align_items": null,
       "align_self": null,
       "border": null,
       "bottom": null,
       "display": null,
       "flex": null,
       "flex_flow": null,
       "grid_area": null,
       "grid_auto_columns": null,
       "grid_auto_flow": null,
       "grid_auto_rows": null,
       "grid_column": null,
       "grid_gap": null,
       "grid_row": null,
       "grid_template_areas": null,
       "grid_template_columns": null,
       "grid_template_rows": null,
       "height": null,
       "justify_content": null,
       "justify_items": null,
       "left": null,
       "margin": null,
       "max_height": null,
       "max_width": null,
       "min_height": null,
       "min_width": null,
       "object_fit": null,
       "object_position": null,
       "order": null,
       "overflow": null,
       "overflow_x": null,
       "overflow_y": null,
       "padding": null,
       "right": null,
       "top": null,
       "visibility": null,
       "width": null
      }
     },
     "67adc0be5ef447dd9b1668df08e77f32": {
      "model_module": "@jupyter-widgets/controls",
      "model_module_version": "1.5.0",
      "model_name": "DescriptionStyleModel",
      "state": {
       "_model_module": "@jupyter-widgets/controls",
       "_model_module_version": "1.5.0",
       "_model_name": "DescriptionStyleModel",
       "_view_count": null,
       "_view_module": "@jupyter-widgets/base",
       "_view_module_version": "1.2.0",
       "_view_name": "StyleView",
       "description_width": ""
      }
     },
     "6c30da8cda474218b55bee7cad3e4374": {
      "model_module": "@jupyter-widgets/base",
      "model_module_version": "1.2.0",
      "model_name": "LayoutModel",
      "state": {
       "_model_module": "@jupyter-widgets/base",
       "_model_module_version": "1.2.0",
       "_model_name": "LayoutModel",
       "_view_count": null,
       "_view_module": "@jupyter-widgets/base",
       "_view_module_version": "1.2.0",
       "_view_name": "LayoutView",
       "align_content": null,
       "align_items": null,
       "align_self": null,
       "border": null,
       "bottom": null,
       "display": null,
       "flex": null,
       "flex_flow": null,
       "grid_area": null,
       "grid_auto_columns": null,
       "grid_auto_flow": null,
       "grid_auto_rows": null,
       "grid_column": null,
       "grid_gap": null,
       "grid_row": null,
       "grid_template_areas": null,
       "grid_template_columns": null,
       "grid_template_rows": null,
       "height": null,
       "justify_content": null,
       "justify_items": null,
       "left": null,
       "margin": null,
       "max_height": null,
       "max_width": null,
       "min_height": null,
       "min_width": null,
       "object_fit": null,
       "object_position": null,
       "order": null,
       "overflow": null,
       "overflow_x": null,
       "overflow_y": null,
       "padding": null,
       "right": null,
       "top": null,
       "visibility": null,
       "width": null
      }
     },
     "70b213301ceb4fd5bea4666d34746808": {
      "model_module": "@jupyter-widgets/controls",
      "model_module_version": "1.5.0",
      "model_name": "DescriptionStyleModel",
      "state": {
       "_model_module": "@jupyter-widgets/controls",
       "_model_module_version": "1.5.0",
       "_model_name": "DescriptionStyleModel",
       "_view_count": null,
       "_view_module": "@jupyter-widgets/base",
       "_view_module_version": "1.2.0",
       "_view_name": "StyleView",
       "description_width": ""
      }
     },
     "71983ffe3327404a944205bf9981bb53": {
      "model_module": "@jupyter-widgets/controls",
      "model_module_version": "1.5.0",
      "model_name": "DescriptionStyleModel",
      "state": {
       "_model_module": "@jupyter-widgets/controls",
       "_model_module_version": "1.5.0",
       "_model_name": "DescriptionStyleModel",
       "_view_count": null,
       "_view_module": "@jupyter-widgets/base",
       "_view_module_version": "1.2.0",
       "_view_name": "StyleView",
       "description_width": ""
      }
     },
     "7248f0edf88e4d5fad449e27ab8686cb": {
      "model_module": "@jupyter-widgets/controls",
      "model_module_version": "1.5.0",
      "model_name": "DescriptionStyleModel",
      "state": {
       "_model_module": "@jupyter-widgets/controls",
       "_model_module_version": "1.5.0",
       "_model_name": "DescriptionStyleModel",
       "_view_count": null,
       "_view_module": "@jupyter-widgets/base",
       "_view_module_version": "1.2.0",
       "_view_name": "StyleView",
       "description_width": ""
      }
     },
     "724b5c4600444d5395a06dac6b1b6d6a": {
      "model_module": "@jupyter-widgets/controls",
      "model_module_version": "1.5.0",
      "model_name": "DescriptionStyleModel",
      "state": {
       "_model_module": "@jupyter-widgets/controls",
       "_model_module_version": "1.5.0",
       "_model_name": "DescriptionStyleModel",
       "_view_count": null,
       "_view_module": "@jupyter-widgets/base",
       "_view_module_version": "1.2.0",
       "_view_name": "StyleView",
       "description_width": ""
      }
     },
     "7353875d802245eb8e17e034ec77e507": {
      "model_module": "@jupyter-widgets/controls",
      "model_module_version": "1.5.0",
      "model_name": "HTMLModel",
      "state": {
       "_dom_classes": [],
       "_model_module": "@jupyter-widgets/controls",
       "_model_module_version": "1.5.0",
       "_model_name": "HTMLModel",
       "_view_count": null,
       "_view_module": "@jupyter-widgets/controls",
       "_view_module_version": "1.5.0",
       "_view_name": "HTMLView",
       "description": "",
       "description_tooltip": null,
       "layout": "IPY_MODEL_5dd5aeb72b8b47b48739fcdb18ac04b7",
       "placeholder": "\u00e2\u20ac\u2039",
       "style": "IPY_MODEL_fd30eb2db62f4ab1b18daa2be9d2b85c",
       "value": "model.safetensors: 100%"
      }
     },
     "746337ba70614bc4858cc1093842f53f": {
      "model_module": "@jupyter-widgets/controls",
      "model_module_version": "1.5.0",
      "model_name": "DescriptionStyleModel",
      "state": {
       "_model_module": "@jupyter-widgets/controls",
       "_model_module_version": "1.5.0",
       "_model_name": "DescriptionStyleModel",
       "_view_count": null,
       "_view_module": "@jupyter-widgets/base",
       "_view_module_version": "1.2.0",
       "_view_name": "StyleView",
       "description_width": ""
      }
     },
     "75a132113bb34d8fb26506a77a77847c": {
      "model_module": "@jupyter-widgets/controls",
      "model_module_version": "1.5.0",
      "model_name": "ProgressStyleModel",
      "state": {
       "_model_module": "@jupyter-widgets/controls",
       "_model_module_version": "1.5.0",
       "_model_name": "ProgressStyleModel",
       "_view_count": null,
       "_view_module": "@jupyter-widgets/base",
       "_view_module_version": "1.2.0",
       "_view_name": "StyleView",
       "bar_color": null,
       "description_width": ""
      }
     },
     "7989a0e1bd8545f981026f90c125abe9": {
      "model_module": "@jupyter-widgets/controls",
      "model_module_version": "1.5.0",
      "model_name": "HBoxModel",
      "state": {
       "_dom_classes": [],
       "_model_module": "@jupyter-widgets/controls",
       "_model_module_version": "1.5.0",
       "_model_name": "HBoxModel",
       "_view_count": null,
       "_view_module": "@jupyter-widgets/controls",
       "_view_module_version": "1.5.0",
       "_view_name": "HBoxView",
       "box_style": "",
       "children": [
        "IPY_MODEL_fa83f15dcda34dbc97f6987f636c70ed",
        "IPY_MODEL_88f3f02fb5314d1d8e91e1c0123e9f8d",
        "IPY_MODEL_9fae008f12c34e0fbbed3c00f9e3810e"
       ],
       "layout": "IPY_MODEL_d2537951d853450fb8aa1424843cf336"
      }
     },
     "7ac7f7468c52444fa19f1ae353a4c871": {
      "model_module": "@jupyter-widgets/base",
      "model_module_version": "1.2.0",
      "model_name": "LayoutModel",
      "state": {
       "_model_module": "@jupyter-widgets/base",
       "_model_module_version": "1.2.0",
       "_model_name": "LayoutModel",
       "_view_count": null,
       "_view_module": "@jupyter-widgets/base",
       "_view_module_version": "1.2.0",
       "_view_name": "LayoutView",
       "align_content": null,
       "align_items": null,
       "align_self": null,
       "border": null,
       "bottom": null,
       "display": null,
       "flex": null,
       "flex_flow": null,
       "grid_area": null,
       "grid_auto_columns": null,
       "grid_auto_flow": null,
       "grid_auto_rows": null,
       "grid_column": null,
       "grid_gap": null,
       "grid_row": null,
       "grid_template_areas": null,
       "grid_template_columns": null,
       "grid_template_rows": null,
       "height": null,
       "justify_content": null,
       "justify_items": null,
       "left": null,
       "margin": null,
       "max_height": null,
       "max_width": null,
       "min_height": null,
       "min_width": null,
       "object_fit": null,
       "object_position": null,
       "order": null,
       "overflow": null,
       "overflow_x": null,
       "overflow_y": null,
       "padding": null,
       "right": null,
       "top": null,
       "visibility": null,
       "width": null
      }
     },
     "7b25a666913245efa2a5e53f6fd2fa00": {
      "model_module": "@jupyter-widgets/base",
      "model_module_version": "1.2.0",
      "model_name": "LayoutModel",
      "state": {
       "_model_module": "@jupyter-widgets/base",
       "_model_module_version": "1.2.0",
       "_model_name": "LayoutModel",
       "_view_count": null,
       "_view_module": "@jupyter-widgets/base",
       "_view_module_version": "1.2.0",
       "_view_name": "LayoutView",
       "align_content": null,
       "align_items": null,
       "align_self": null,
       "border": null,
       "bottom": null,
       "display": null,
       "flex": null,
       "flex_flow": null,
       "grid_area": null,
       "grid_auto_columns": null,
       "grid_auto_flow": null,
       "grid_auto_rows": null,
       "grid_column": null,
       "grid_gap": null,
       "grid_row": null,
       "grid_template_areas": null,
       "grid_template_columns": null,
       "grid_template_rows": null,
       "height": null,
       "justify_content": null,
       "justify_items": null,
       "left": null,
       "margin": null,
       "max_height": null,
       "max_width": null,
       "min_height": null,
       "min_width": null,
       "object_fit": null,
       "object_position": null,
       "order": null,
       "overflow": null,
       "overflow_x": null,
       "overflow_y": null,
       "padding": null,
       "right": null,
       "top": null,
       "visibility": null,
       "width": null
      }
     },
     "7c2a244721aa43e5a9c0df890f121349": {
      "model_module": "@jupyter-widgets/base",
      "model_module_version": "1.2.0",
      "model_name": "LayoutModel",
      "state": {
       "_model_module": "@jupyter-widgets/base",
       "_model_module_version": "1.2.0",
       "_model_name": "LayoutModel",
       "_view_count": null,
       "_view_module": "@jupyter-widgets/base",
       "_view_module_version": "1.2.0",
       "_view_name": "LayoutView",
       "align_content": null,
       "align_items": null,
       "align_self": null,
       "border": null,
       "bottom": null,
       "display": null,
       "flex": null,
       "flex_flow": null,
       "grid_area": null,
       "grid_auto_columns": null,
       "grid_auto_flow": null,
       "grid_auto_rows": null,
       "grid_column": null,
       "grid_gap": null,
       "grid_row": null,
       "grid_template_areas": null,
       "grid_template_columns": null,
       "grid_template_rows": null,
       "height": null,
       "justify_content": null,
       "justify_items": null,
       "left": null,
       "margin": null,
       "max_height": null,
       "max_width": null,
       "min_height": null,
       "min_width": null,
       "object_fit": null,
       "object_position": null,
       "order": null,
       "overflow": null,
       "overflow_x": null,
       "overflow_y": null,
       "padding": null,
       "right": null,
       "top": null,
       "visibility": null,
       "width": null
      }
     },
     "7cbed8fb5d82444db83a444789aca715": {
      "model_module": "@jupyter-widgets/controls",
      "model_module_version": "1.5.0",
      "model_name": "HBoxModel",
      "state": {
       "_dom_classes": [],
       "_model_module": "@jupyter-widgets/controls",
       "_model_module_version": "1.5.0",
       "_model_name": "HBoxModel",
       "_view_count": null,
       "_view_module": "@jupyter-widgets/controls",
       "_view_module_version": "1.5.0",
       "_view_name": "HBoxView",
       "box_style": "",
       "children": [
        "IPY_MODEL_81503a92a65a41bdb6516094a2b486d1",
        "IPY_MODEL_8378b3c9df934b65a77b282ec3b44156",
        "IPY_MODEL_2cba09f5b789499e83d39de012db6331"
       ],
       "layout": "IPY_MODEL_ad1fd8333b2f4054bfd99fe1fdefd9da"
      }
     },
     "81503a92a65a41bdb6516094a2b486d1": {
      "model_module": "@jupyter-widgets/controls",
      "model_module_version": "1.5.0",
      "model_name": "HTMLModel",
      "state": {
       "_dom_classes": [],
       "_model_module": "@jupyter-widgets/controls",
       "_model_module_version": "1.5.0",
       "_model_name": "HTMLModel",
       "_view_count": null,
       "_view_module": "@jupyter-widgets/controls",
       "_view_module_version": "1.5.0",
       "_view_name": "HTMLView",
       "description": "",
       "description_tooltip": null,
       "layout": "IPY_MODEL_beb8ebfe5f83405e823ca98c080bd854",
       "placeholder": "\u00e2\u20ac\u2039",
       "style": "IPY_MODEL_67adc0be5ef447dd9b1668df08e77f32",
       "value": "config.json: 100%"
      }
     },
     "81f73948c00e49f191f9dca9a731931f": {
      "model_module": "@jupyter-widgets/controls",
      "model_module_version": "1.5.0",
      "model_name": "ProgressStyleModel",
      "state": {
       "_model_module": "@jupyter-widgets/controls",
       "_model_module_version": "1.5.0",
       "_model_name": "ProgressStyleModel",
       "_view_count": null,
       "_view_module": "@jupyter-widgets/base",
       "_view_module_version": "1.2.0",
       "_view_name": "StyleView",
       "bar_color": null,
       "description_width": ""
      }
     },
     "8378b3c9df934b65a77b282ec3b44156": {
      "model_module": "@jupyter-widgets/controls",
      "model_module_version": "1.5.0",
      "model_name": "FloatProgressModel",
      "state": {
       "_dom_classes": [],
       "_model_module": "@jupyter-widgets/controls",
       "_model_module_version": "1.5.0",
       "_model_name": "FloatProgressModel",
       "_view_count": null,
       "_view_module": "@jupyter-widgets/controls",
       "_view_module_version": "1.5.0",
       "_view_name": "ProgressView",
       "bar_style": "success",
       "description": "",
       "description_tooltip": null,
       "layout": "IPY_MODEL_6c30da8cda474218b55bee7cad3e4374",
       "max": 570,
       "min": 0,
       "orientation": "horizontal",
       "style": "IPY_MODEL_75a132113bb34d8fb26506a77a77847c",
       "value": 570
      }
     },
     "88f3f02fb5314d1d8e91e1c0123e9f8d": {
      "model_module": "@jupyter-widgets/controls",
      "model_module_version": "1.5.0",
      "model_name": "FloatProgressModel",
      "state": {
       "_dom_classes": [],
       "_model_module": "@jupyter-widgets/controls",
       "_model_module_version": "1.5.0",
       "_model_name": "FloatProgressModel",
       "_view_count": null,
       "_view_module": "@jupyter-widgets/controls",
       "_view_module_version": "1.5.0",
       "_view_name": "ProgressView",
       "bar_style": "success",
       "description": "",
       "description_tooltip": null,
       "layout": "IPY_MODEL_b7f9a447218e4108ba7fe5415627631a",
       "max": 28,
       "min": 0,
       "orientation": "horizontal",
       "style": "IPY_MODEL_12b351904dbd4dd9946dec4fb011203a",
       "value": 28
      }
     },
     "897d74ce096e4e96bfab34ed90cc90c0": {
      "model_module": "@jupyter-widgets/controls",
      "model_module_version": "1.5.0",
      "model_name": "DescriptionStyleModel",
      "state": {
       "_model_module": "@jupyter-widgets/controls",
       "_model_module_version": "1.5.0",
       "_model_name": "DescriptionStyleModel",
       "_view_count": null,
       "_view_module": "@jupyter-widgets/base",
       "_view_module_version": "1.2.0",
       "_view_name": "StyleView",
       "description_width": ""
      }
     },
     "8afb57b49ec64daa8b7d4eeff7032a83": {
      "model_module": "@jupyter-widgets/controls",
      "model_module_version": "1.5.0",
      "model_name": "FloatProgressModel",
      "state": {
       "_dom_classes": [],
       "_model_module": "@jupyter-widgets/controls",
       "_model_module_version": "1.5.0",
       "_model_name": "FloatProgressModel",
       "_view_count": null,
       "_view_module": "@jupyter-widgets/controls",
       "_view_module_version": "1.5.0",
       "_view_name": "ProgressView",
       "bar_style": "success",
       "description": "",
       "description_tooltip": null,
       "layout": "IPY_MODEL_28339b7091af440ab871d960b8d38d30",
       "max": 231508,
       "min": 0,
       "orientation": "horizontal",
       "style": "IPY_MODEL_a9c9bd0c66b8459d9f3f3bda3319a577",
       "value": 231508
      }
     },
     "911c6a395294449a996290fa2436c0e4": {
      "model_module": "@jupyter-widgets/base",
      "model_module_version": "1.2.0",
      "model_name": "LayoutModel",
      "state": {
       "_model_module": "@jupyter-widgets/base",
       "_model_module_version": "1.2.0",
       "_model_name": "LayoutModel",
       "_view_count": null,
       "_view_module": "@jupyter-widgets/base",
       "_view_module_version": "1.2.0",
       "_view_name": "LayoutView",
       "align_content": null,
       "align_items": null,
       "align_self": null,
       "border": null,
       "bottom": null,
       "display": null,
       "flex": null,
       "flex_flow": null,
       "grid_area": null,
       "grid_auto_columns": null,
       "grid_auto_flow": null,
       "grid_auto_rows": null,
       "grid_column": null,
       "grid_gap": null,
       "grid_row": null,
       "grid_template_areas": null,
       "grid_template_columns": null,
       "grid_template_rows": null,
       "height": null,
       "justify_content": null,
       "justify_items": null,
       "left": null,
       "margin": null,
       "max_height": null,
       "max_width": null,
       "min_height": null,
       "min_width": null,
       "object_fit": null,
       "object_position": null,
       "order": null,
       "overflow": null,
       "overflow_x": null,
       "overflow_y": null,
       "padding": null,
       "right": null,
       "top": null,
       "visibility": null,
       "width": null
      }
     },
     "9227ffc972f34c928fecdbff67ec5492": {
      "model_module": "@jupyter-widgets/controls",
      "model_module_version": "1.5.0",
      "model_name": "HTMLModel",
      "state": {
       "_dom_classes": [],
       "_model_module": "@jupyter-widgets/controls",
       "_model_module_version": "1.5.0",
       "_model_name": "HTMLModel",
       "_view_count": null,
       "_view_module": "@jupyter-widgets/controls",
       "_view_module_version": "1.5.0",
       "_view_name": "HTMLView",
       "description": "",
       "description_tooltip": null,
       "layout": "IPY_MODEL_7b25a666913245efa2a5e53f6fd2fa00",
       "placeholder": "\u00e2\u20ac\u2039",
       "style": "IPY_MODEL_746337ba70614bc4858cc1093842f53f",
       "value": " 440M/440M [00:01&lt;00:00, 400MB/s]"
      }
     },
     "93f9fe3527b7436fa5b182e230b7bb22": {
      "model_module": "@jupyter-widgets/controls",
      "model_module_version": "1.5.0",
      "model_name": "HTMLModel",
      "state": {
       "_dom_classes": [],
       "_model_module": "@jupyter-widgets/controls",
       "_model_module_version": "1.5.0",
       "_model_name": "HTMLModel",
       "_view_count": null,
       "_view_module": "@jupyter-widgets/controls",
       "_view_module_version": "1.5.0",
       "_view_name": "HTMLView",
       "description": "",
       "description_tooltip": null,
       "layout": "IPY_MODEL_7c2a244721aa43e5a9c0df890f121349",
       "placeholder": "\u00e2\u20ac\u2039",
       "style": "IPY_MODEL_7248f0edf88e4d5fad449e27ab8686cb",
       "value": " 232k/232k [00:00&lt;00:00, 1.40MB/s]"
      }
     },
     "9d076de0c89045e996290fd99cb4b095": {
      "model_module": "@jupyter-widgets/controls",
      "model_module_version": "1.5.0",
      "model_name": "DescriptionStyleModel",
      "state": {
       "_model_module": "@jupyter-widgets/controls",
       "_model_module_version": "1.5.0",
       "_model_name": "DescriptionStyleModel",
       "_view_count": null,
       "_view_module": "@jupyter-widgets/base",
       "_view_module_version": "1.2.0",
       "_view_name": "StyleView",
       "description_width": ""
      }
     },
     "9fae008f12c34e0fbbed3c00f9e3810e": {
      "model_module": "@jupyter-widgets/controls",
      "model_module_version": "1.5.0",
      "model_name": "HTMLModel",
      "state": {
       "_dom_classes": [],
       "_model_module": "@jupyter-widgets/controls",
       "_model_module_version": "1.5.0",
       "_model_name": "HTMLModel",
       "_view_count": null,
       "_view_module": "@jupyter-widgets/controls",
       "_view_module_version": "1.5.0",
       "_view_name": "HTMLView",
       "description": "",
       "description_tooltip": null,
       "layout": "IPY_MODEL_f5618d756c714b45a1ece2038284d59d",
       "placeholder": "\u00e2\u20ac\u2039",
       "style": "IPY_MODEL_9d076de0c89045e996290fd99cb4b095",
       "value": " 28.0/28.0 [00:00&lt;00:00, 2.35kB/s]"
      }
     },
     "a9c9bd0c66b8459d9f3f3bda3319a577": {
      "model_module": "@jupyter-widgets/controls",
      "model_module_version": "1.5.0",
      "model_name": "ProgressStyleModel",
      "state": {
       "_model_module": "@jupyter-widgets/controls",
       "_model_module_version": "1.5.0",
       "_model_name": "ProgressStyleModel",
       "_view_count": null,
       "_view_module": "@jupyter-widgets/base",
       "_view_module_version": "1.2.0",
       "_view_name": "StyleView",
       "bar_color": null,
       "description_width": ""
      }
     },
     "ad1fd8333b2f4054bfd99fe1fdefd9da": {
      "model_module": "@jupyter-widgets/base",
      "model_module_version": "1.2.0",
      "model_name": "LayoutModel",
      "state": {
       "_model_module": "@jupyter-widgets/base",
       "_model_module_version": "1.2.0",
       "_model_name": "LayoutModel",
       "_view_count": null,
       "_view_module": "@jupyter-widgets/base",
       "_view_module_version": "1.2.0",
       "_view_name": "LayoutView",
       "align_content": null,
       "align_items": null,
       "align_self": null,
       "border": null,
       "bottom": null,
       "display": null,
       "flex": null,
       "flex_flow": null,
       "grid_area": null,
       "grid_auto_columns": null,
       "grid_auto_flow": null,
       "grid_auto_rows": null,
       "grid_column": null,
       "grid_gap": null,
       "grid_row": null,
       "grid_template_areas": null,
       "grid_template_columns": null,
       "grid_template_rows": null,
       "height": null,
       "justify_content": null,
       "justify_items": null,
       "left": null,
       "margin": null,
       "max_height": null,
       "max_width": null,
       "min_height": null,
       "min_width": null,
       "object_fit": null,
       "object_position": null,
       "order": null,
       "overflow": null,
       "overflow_x": null,
       "overflow_y": null,
       "padding": null,
       "right": null,
       "top": null,
       "visibility": null,
       "width": null
      }
     },
     "ae2c86c2bf2d40c198031720dbac738f": {
      "model_module": "@jupyter-widgets/controls",
      "model_module_version": "1.5.0",
      "model_name": "FloatProgressModel",
      "state": {
       "_dom_classes": [],
       "_model_module": "@jupyter-widgets/controls",
       "_model_module_version": "1.5.0",
       "_model_name": "FloatProgressModel",
       "_view_count": null,
       "_view_module": "@jupyter-widgets/controls",
       "_view_module_version": "1.5.0",
       "_view_name": "ProgressView",
       "bar_style": "success",
       "description": "",
       "description_tooltip": null,
       "layout": "IPY_MODEL_fe0932c9f8c34b90a293b95d3a15d567",
       "max": 466062,
       "min": 0,
       "orientation": "horizontal",
       "style": "IPY_MODEL_de2627df367642f1829ba6a5dd533680",
       "value": 466062
      }
     },
     "b65b65d0495445b39889f29949fdface": {
      "model_module": "@jupyter-widgets/base",
      "model_module_version": "1.2.0",
      "model_name": "LayoutModel",
      "state": {
       "_model_module": "@jupyter-widgets/base",
       "_model_module_version": "1.2.0",
       "_model_name": "LayoutModel",
       "_view_count": null,
       "_view_module": "@jupyter-widgets/base",
       "_view_module_version": "1.2.0",
       "_view_name": "LayoutView",
       "align_content": null,
       "align_items": null,
       "align_self": null,
       "border": null,
       "bottom": null,
       "display": null,
       "flex": null,
       "flex_flow": null,
       "grid_area": null,
       "grid_auto_columns": null,
       "grid_auto_flow": null,
       "grid_auto_rows": null,
       "grid_column": null,
       "grid_gap": null,
       "grid_row": null,
       "grid_template_areas": null,
       "grid_template_columns": null,
       "grid_template_rows": null,
       "height": null,
       "justify_content": null,
       "justify_items": null,
       "left": null,
       "margin": null,
       "max_height": null,
       "max_width": null,
       "min_height": null,
       "min_width": null,
       "object_fit": null,
       "object_position": null,
       "order": null,
       "overflow": null,
       "overflow_x": null,
       "overflow_y": null,
       "padding": null,
       "right": null,
       "top": null,
       "visibility": null,
       "width": null
      }
     },
     "b7f9a447218e4108ba7fe5415627631a": {
      "model_module": "@jupyter-widgets/base",
      "model_module_version": "1.2.0",
      "model_name": "LayoutModel",
      "state": {
       "_model_module": "@jupyter-widgets/base",
       "_model_module_version": "1.2.0",
       "_model_name": "LayoutModel",
       "_view_count": null,
       "_view_module": "@jupyter-widgets/base",
       "_view_module_version": "1.2.0",
       "_view_name": "LayoutView",
       "align_content": null,
       "align_items": null,
       "align_self": null,
       "border": null,
       "bottom": null,
       "display": null,
       "flex": null,
       "flex_flow": null,
       "grid_area": null,
       "grid_auto_columns": null,
       "grid_auto_flow": null,
       "grid_auto_rows": null,
       "grid_column": null,
       "grid_gap": null,
       "grid_row": null,
       "grid_template_areas": null,
       "grid_template_columns": null,
       "grid_template_rows": null,
       "height": null,
       "justify_content": null,
       "justify_items": null,
       "left": null,
       "margin": null,
       "max_height": null,
       "max_width": null,
       "min_height": null,
       "min_width": null,
       "object_fit": null,
       "object_position": null,
       "order": null,
       "overflow": null,
       "overflow_x": null,
       "overflow_y": null,
       "padding": null,
       "right": null,
       "top": null,
       "visibility": null,
       "width": null
      }
     },
     "beb8ebfe5f83405e823ca98c080bd854": {
      "model_module": "@jupyter-widgets/base",
      "model_module_version": "1.2.0",
      "model_name": "LayoutModel",
      "state": {
       "_model_module": "@jupyter-widgets/base",
       "_model_module_version": "1.2.0",
       "_model_name": "LayoutModel",
       "_view_count": null,
       "_view_module": "@jupyter-widgets/base",
       "_view_module_version": "1.2.0",
       "_view_name": "LayoutView",
       "align_content": null,
       "align_items": null,
       "align_self": null,
       "border": null,
       "bottom": null,
       "display": null,
       "flex": null,
       "flex_flow": null,
       "grid_area": null,
       "grid_auto_columns": null,
       "grid_auto_flow": null,
       "grid_auto_rows": null,
       "grid_column": null,
       "grid_gap": null,
       "grid_row": null,
       "grid_template_areas": null,
       "grid_template_columns": null,
       "grid_template_rows": null,
       "height": null,
       "justify_content": null,
       "justify_items": null,
       "left": null,
       "margin": null,
       "max_height": null,
       "max_width": null,
       "min_height": null,
       "min_width": null,
       "object_fit": null,
       "object_position": null,
       "order": null,
       "overflow": null,
       "overflow_x": null,
       "overflow_y": null,
       "padding": null,
       "right": null,
       "top": null,
       "visibility": null,
       "width": null
      }
     },
     "bee78558ae8645c3b401fbae2143656e": {
      "model_module": "@jupyter-widgets/controls",
      "model_module_version": "1.5.0",
      "model_name": "HBoxModel",
      "state": {
       "_dom_classes": [],
       "_model_module": "@jupyter-widgets/controls",
       "_model_module_version": "1.5.0",
       "_model_name": "HBoxModel",
       "_view_count": null,
       "_view_module": "@jupyter-widgets/controls",
       "_view_module_version": "1.5.0",
       "_view_name": "HBoxView",
       "box_style": "",
       "children": [
        "IPY_MODEL_2c09ae5f5e404e7096aa4bb950ee7fbf",
        "IPY_MODEL_ae2c86c2bf2d40c198031720dbac738f",
        "IPY_MODEL_53670268e2eb4b4da0508a76203f500e"
       ],
       "layout": "IPY_MODEL_2cb64bf51d704deebdb2cf188bb11263"
      }
     },
     "c8b704aa1b81420aaf3a707b892aee02": {
      "model_module": "@jupyter-widgets/controls",
      "model_module_version": "1.5.0",
      "model_name": "HBoxModel",
      "state": {
       "_dom_classes": [],
       "_model_module": "@jupyter-widgets/controls",
       "_model_module_version": "1.5.0",
       "_model_name": "HBoxModel",
       "_view_count": null,
       "_view_module": "@jupyter-widgets/controls",
       "_view_module_version": "1.5.0",
       "_view_name": "HBoxView",
       "box_style": "",
       "children": [
        "IPY_MODEL_7353875d802245eb8e17e034ec77e507",
        "IPY_MODEL_26c70c550d594079978938afd10eecb4",
        "IPY_MODEL_9227ffc972f34c928fecdbff67ec5492"
       ],
       "layout": "IPY_MODEL_e26feaf53efd489aafac4c19e9ebc28d"
      }
     },
     "d2537951d853450fb8aa1424843cf336": {
      "model_module": "@jupyter-widgets/base",
      "model_module_version": "1.2.0",
      "model_name": "LayoutModel",
      "state": {
       "_model_module": "@jupyter-widgets/base",
       "_model_module_version": "1.2.0",
       "_model_name": "LayoutModel",
       "_view_count": null,
       "_view_module": "@jupyter-widgets/base",
       "_view_module_version": "1.2.0",
       "_view_name": "LayoutView",
       "align_content": null,
       "align_items": null,
       "align_self": null,
       "border": null,
       "bottom": null,
       "display": null,
       "flex": null,
       "flex_flow": null,
       "grid_area": null,
       "grid_auto_columns": null,
       "grid_auto_flow": null,
       "grid_auto_rows": null,
       "grid_column": null,
       "grid_gap": null,
       "grid_row": null,
       "grid_template_areas": null,
       "grid_template_columns": null,
       "grid_template_rows": null,
       "height": null,
       "justify_content": null,
       "justify_items": null,
       "left": null,
       "margin": null,
       "max_height": null,
       "max_width": null,
       "min_height": null,
       "min_width": null,
       "object_fit": null,
       "object_position": null,
       "order": null,
       "overflow": null,
       "overflow_x": null,
       "overflow_y": null,
       "padding": null,
       "right": null,
       "top": null,
       "visibility": null,
       "width": null
      }
     },
     "de2627df367642f1829ba6a5dd533680": {
      "model_module": "@jupyter-widgets/controls",
      "model_module_version": "1.5.0",
      "model_name": "ProgressStyleModel",
      "state": {
       "_model_module": "@jupyter-widgets/controls",
       "_model_module_version": "1.5.0",
       "_model_name": "ProgressStyleModel",
       "_view_count": null,
       "_view_module": "@jupyter-widgets/base",
       "_view_module_version": "1.2.0",
       "_view_name": "StyleView",
       "bar_color": null,
       "description_width": ""
      }
     },
     "e26feaf53efd489aafac4c19e9ebc28d": {
      "model_module": "@jupyter-widgets/base",
      "model_module_version": "1.2.0",
      "model_name": "LayoutModel",
      "state": {
       "_model_module": "@jupyter-widgets/base",
       "_model_module_version": "1.2.0",
       "_model_name": "LayoutModel",
       "_view_count": null,
       "_view_module": "@jupyter-widgets/base",
       "_view_module_version": "1.2.0",
       "_view_name": "LayoutView",
       "align_content": null,
       "align_items": null,
       "align_self": null,
       "border": null,
       "bottom": null,
       "display": null,
       "flex": null,
       "flex_flow": null,
       "grid_area": null,
       "grid_auto_columns": null,
       "grid_auto_flow": null,
       "grid_auto_rows": null,
       "grid_column": null,
       "grid_gap": null,
       "grid_row": null,
       "grid_template_areas": null,
       "grid_template_columns": null,
       "grid_template_rows": null,
       "height": null,
       "justify_content": null,
       "justify_items": null,
       "left": null,
       "margin": null,
       "max_height": null,
       "max_width": null,
       "min_height": null,
       "min_width": null,
       "object_fit": null,
       "object_position": null,
       "order": null,
       "overflow": null,
       "overflow_x": null,
       "overflow_y": null,
       "padding": null,
       "right": null,
       "top": null,
       "visibility": null,
       "width": null
      }
     },
     "ebdfc83ab795454ba16873fb0295f5d1": {
      "model_module": "@jupyter-widgets/base",
      "model_module_version": "1.2.0",
      "model_name": "LayoutModel",
      "state": {
       "_model_module": "@jupyter-widgets/base",
       "_model_module_version": "1.2.0",
       "_model_name": "LayoutModel",
       "_view_count": null,
       "_view_module": "@jupyter-widgets/base",
       "_view_module_version": "1.2.0",
       "_view_name": "LayoutView",
       "align_content": null,
       "align_items": null,
       "align_self": null,
       "border": null,
       "bottom": null,
       "display": null,
       "flex": null,
       "flex_flow": null,
       "grid_area": null,
       "grid_auto_columns": null,
       "grid_auto_flow": null,
       "grid_auto_rows": null,
       "grid_column": null,
       "grid_gap": null,
       "grid_row": null,
       "grid_template_areas": null,
       "grid_template_columns": null,
       "grid_template_rows": null,
       "height": null,
       "justify_content": null,
       "justify_items": null,
       "left": null,
       "margin": null,
       "max_height": null,
       "max_width": null,
       "min_height": null,
       "min_width": null,
       "object_fit": null,
       "object_position": null,
       "order": null,
       "overflow": null,
       "overflow_x": null,
       "overflow_y": null,
       "padding": null,
       "right": null,
       "top": null,
       "visibility": null,
       "width": null
      }
     },
     "f5618d756c714b45a1ece2038284d59d": {
      "model_module": "@jupyter-widgets/base",
      "model_module_version": "1.2.0",
      "model_name": "LayoutModel",
      "state": {
       "_model_module": "@jupyter-widgets/base",
       "_model_module_version": "1.2.0",
       "_model_name": "LayoutModel",
       "_view_count": null,
       "_view_module": "@jupyter-widgets/base",
       "_view_module_version": "1.2.0",
       "_view_name": "LayoutView",
       "align_content": null,
       "align_items": null,
       "align_self": null,
       "border": null,
       "bottom": null,
       "display": null,
       "flex": null,
       "flex_flow": null,
       "grid_area": null,
       "grid_auto_columns": null,
       "grid_auto_flow": null,
       "grid_auto_rows": null,
       "grid_column": null,
       "grid_gap": null,
       "grid_row": null,
       "grid_template_areas": null,
       "grid_template_columns": null,
       "grid_template_rows": null,
       "height": null,
       "justify_content": null,
       "justify_items": null,
       "left": null,
       "margin": null,
       "max_height": null,
       "max_width": null,
       "min_height": null,
       "min_width": null,
       "object_fit": null,
       "object_position": null,
       "order": null,
       "overflow": null,
       "overflow_x": null,
       "overflow_y": null,
       "padding": null,
       "right": null,
       "top": null,
       "visibility": null,
       "width": null
      }
     },
     "fa83f15dcda34dbc97f6987f636c70ed": {
      "model_module": "@jupyter-widgets/controls",
      "model_module_version": "1.5.0",
      "model_name": "HTMLModel",
      "state": {
       "_dom_classes": [],
       "_model_module": "@jupyter-widgets/controls",
       "_model_module_version": "1.5.0",
       "_model_name": "HTMLModel",
       "_view_count": null,
       "_view_module": "@jupyter-widgets/controls",
       "_view_module_version": "1.5.0",
       "_view_name": "HTMLView",
       "description": "",
       "description_tooltip": null,
       "layout": "IPY_MODEL_7ac7f7468c52444fa19f1ae353a4c871",
       "placeholder": "\u00e2\u20ac\u2039",
       "style": "IPY_MODEL_897d74ce096e4e96bfab34ed90cc90c0",
       "value": "tokenizer_config.json: 100%"
      }
     },
     "fd30eb2db62f4ab1b18daa2be9d2b85c": {
      "model_module": "@jupyter-widgets/controls",
      "model_module_version": "1.5.0",
      "model_name": "DescriptionStyleModel",
      "state": {
       "_model_module": "@jupyter-widgets/controls",
       "_model_module_version": "1.5.0",
       "_model_name": "DescriptionStyleModel",
       "_view_count": null,
       "_view_module": "@jupyter-widgets/base",
       "_view_module_version": "1.2.0",
       "_view_name": "StyleView",
       "description_width": ""
      }
     },
     "fe0932c9f8c34b90a293b95d3a15d567": {
      "model_module": "@jupyter-widgets/base",
      "model_module_version": "1.2.0",
      "model_name": "LayoutModel",
      "state": {
       "_model_module": "@jupyter-widgets/base",
       "_model_module_version": "1.2.0",
       "_model_name": "LayoutModel",
       "_view_count": null,
       "_view_module": "@jupyter-widgets/base",
       "_view_module_version": "1.2.0",
       "_view_name": "LayoutView",
       "align_content": null,
       "align_items": null,
       "align_self": null,
       "border": null,
       "bottom": null,
       "display": null,
       "flex": null,
       "flex_flow": null,
       "grid_area": null,
       "grid_auto_columns": null,
       "grid_auto_flow": null,
       "grid_auto_rows": null,
       "grid_column": null,
       "grid_gap": null,
       "grid_row": null,
       "grid_template_areas": null,
       "grid_template_columns": null,
       "grid_template_rows": null,
       "height": null,
       "justify_content": null,
       "justify_items": null,
       "left": null,
       "margin": null,
       "max_height": null,
       "max_width": null,
       "min_height": null,
       "min_width": null,
       "object_fit": null,
       "object_position": null,
       "order": null,
       "overflow": null,
       "overflow_x": null,
       "overflow_y": null,
       "padding": null,
       "right": null,
       "top": null,
       "visibility": null,
       "width": null
      }
     }
    },
    "version_major": 2,
    "version_minor": 0
   }
  }
 },
 "nbformat": 4,
 "nbformat_minor": 5
}